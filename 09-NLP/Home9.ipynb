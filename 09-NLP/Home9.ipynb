{
 "cells": [
  {
   "cell_type": "code",
   "execution_count": 13,
   "metadata": {},
   "outputs": [],
   "source": [
    "import numpy as np\n",
    "import torch\n",
    "from torch import nn\n",
    "import pandas as pd\n",
    "import re"
   ]
  },
  {
   "cell_type": "markdown",
   "metadata": {},
   "source": [
    "# SLIDE (1) TF-IDF"
   ]
  },
  {
   "cell_type": "markdown",
   "metadata": {},
   "source": [
    "На вход дается список строк (документов). Необходимо перевести предложения в tf-idf вектора.\n",
    "\n",
    "Перевод осуществляется по формулам:\n",
    "\n",
    "* Частота слова (term frequency) в документе $d$:\n",
    "\n",
    "$$tf(word, d) = \\frac{n_{word}}{\\sum_{i}^{words}n_i}$$\n",
    "\n",
    "* Обратная частота документа (inverse document frequency) - частота документов с таким словом\n",
    "\n",
    "$$idf(word, D) = log\\Big(\\frac{|D|}{|\\{word \\in d | d\\in D\\}|}\\Big)$$\n",
    "\n",
    "* Итоговое значение фичи вектора для слова:\n",
    "\n",
    "$$ feature_i =  tf(word, d) \\times idf(word, D) $$\n",
    "\n",
    "На выход нужно вернуть массивы $tf$, $idf$, и $tf-idf$. Массивы отсортированы в прямом алфавитном порядке слов. Смотрите тесты для пояснений.\n",
    "\n",
    "P.S. Значение не совпадает с реальным значением из TfidfVectorizer, так как там используется [сглаженная формула](https://ru.wikipedia.org/wiki/Okapi_BM25) и нормировка."
   ]
  },
  {
   "cell_type": "markdown",
   "metadata": {},
   "source": [
    "# TASK"
   ]
  },
  {
   "cell_type": "code",
   "execution_count": null,
   "metadata": {},
   "outputs": [],
   "source": [
    "def tf_idf(list_of_strings: list) -> tuple :\n",
    "    ### ╰( ͡° ͜ʖ ͡° )つ──☆*:・ﾟ\n",
    "    return tf, idf, tf_idf"
   ]
  },
  {
   "cell_type": "markdown",
   "metadata": {},
   "source": [
    "# TESTs"
   ]
  },
  {
   "cell_type": "code",
   "execution_count": 4,
   "metadata": {},
   "outputs": [],
   "source": [
    "X = ['I I enjoy flying',\n",
    "     'I like like trains ',\n",
    "     'I like taxi']\n",
    "\n",
    "order = ['I', 'enjoy', 'flying', 'like', 'taxi', 'trains']\n",
    "\n",
    "tf_r = np.array([[0.5 , 0.25, 0.25, 0.  , 0.  , 0.  ],\n",
    "                 [0.25, 0.  , 0.  , 0.5 , 0.  , 0.25],\n",
    "                 [0.333, 0.  , 0.  , 0.333, 0.333, 0.  ]])\n",
    "\n",
    "idf_r = [0., 1.0986, 1.0986, 0.4054, 1.0986, 1.0986]\n",
    "\n",
    "tfidf_r = np.array([[0., 0.2746, 0.2746, 0.   , 0.     , 0.    ],\n",
    "                    [0., 0.    , 0.   , 0.2027, 0.     , 0.2746],\n",
    "                    [0., 0.    , 0.   , 0.1351, 0.3662 , 0.    ]])\n",
    "\n",
    "tf, idf, tfidf = tf_idf(X)\n",
    "\n",
    "assert np.allclose( tf,  tf_r, atol=1e-2)\n",
    "assert np.allclose(idf, idf_r, atol=1e-3)\n",
    "assert np.allclose(tfidf, tfidf_r, atol=1e-2)\n",
    "\n",
    "\n",
    "#################################################################################\n",
    "\n",
    "X = ['я недели две хочу пицца',\n",
    "     'но вся пицца не пицца которую я хочу',\n",
    "     'сделать самой идея хорошая',\n",
    "     'но я не знаю которую пицца я хочу']\n",
    "\n",
    "order = ['вся', 'две', 'знаю', 'идея', 'которую', 'не', 'недели', \n",
    "         'но', 'пицца', 'самой', 'сделать', 'хорошая', 'хочу', 'я']\n",
    "\n",
    "tf_r = np.array([[0.   , 0.2  , 0.   , 0.   , 0.   , 0.   , 0.2  , 0.   , 0.2  ,\n",
    "        0.   , 0.   , 0.   , 0.2  , 0.2  ],\n",
    "       [0.125, 0.   , 0.   , 0.   , 0.125, 0.125, 0.   , 0.125, 0.25 ,\n",
    "        0.   , 0.   , 0.   , 0.125, 0.125],\n",
    "       [0.   , 0.   , 0.   , 0.25 , 0.   , 0.   , 0.   , 0.   , 0.   ,\n",
    "        0.25 , 0.25 , 0.25 , 0.   , 0.   ],\n",
    "       [0.   , 0.   , 0.125, 0.   , 0.125, 0.125, 0.   , 0.125, 0.125,\n",
    "        0.   , 0.   , 0.   , 0.125, 0.25 ]])\n",
    "\n",
    "idf_r = np.array([1.38629436, 1.38629436, 1.38629436, 1.38629436, 0.69314718,\n",
    "                  0.69314718, 1.38629436, 0.69314718, 0.28768207, 1.38629436,\n",
    "                  1.38629436, 1.38629436, 0.28768207, 0.28768207])\n",
    "\n",
    "tfidf_r = np.array([[0.        , 0.27725887, 0.        , 0.        , 0.        ,\n",
    "                     0.        , 0.27725887, 0.        , 0.05753641, 0.        ,\n",
    "                     0.        , 0.        , 0.05753641, 0.05753641],\n",
    "                    [0.1732868 , 0.        , 0.        , 0.        , 0.0866434 ,\n",
    "                     0.0866434 , 0.        , 0.0866434 , 0.07192052, 0.        ,\n",
    "                     0.        , 0.        , 0.03596026, 0.03596026],\n",
    "                    [0.        , 0.        , 0.        , 0.34657359, 0.        ,\n",
    "                     0.        , 0.        , 0.        , 0.        , 0.34657359,\n",
    "                     0.34657359, 0.34657359, 0.        , 0.        ],\n",
    "                    [0.        , 0.        , 0.1732868 , 0.        , 0.0866434 ,\n",
    "                     0.0866434 , 0.        , 0.0866434 , 0.03596026, 0.        ,\n",
    "                     0.        , 0.        , 0.03596026, 0.07192052]])\n",
    "\n",
    "tf, idf, tfidf = tf_idf(X)\n",
    "assert np.allclose( tf,  tf_r, atol=1e-2)\n",
    "assert np.allclose(idf, idf_r, atol=1e-3)\n",
    "assert np.allclose(tfidf, tfidf_r, atol=1e-2)"
   ]
  },
  {
   "cell_type": "markdown",
   "metadata": {},
   "source": [
    "# SLIDE (1) Co-occurrence"
   ]
  },
  {
   "cell_type": "markdown",
   "metadata": {},
   "source": [
    "Дано несколько предложений на русском или английском языке. \n",
    "\n",
    "Необходимо сделать co-occurrence таблицу слов, стоящих рядом в окне длины `window_size`.\n",
    "\n",
    "См. тесты для примера. Форматировать/изменять предложения не нужно."
   ]
  },
  {
   "cell_type": "markdown",
   "metadata": {},
   "source": [
    "# TASK"
   ]
  },
  {
   "cell_type": "code",
   "execution_count": null,
   "metadata": {},
   "outputs": [],
   "source": [
    "def content_embeddings(list_of_strings: list, window_size:int)-> np.ndarray:\n",
    "    ### ╰( ͡° ͜ʖ ͡° )つ──☆*:・ﾟ"
   ]
  },
  {
   "cell_type": "code",
   "execution_count": 8,
   "metadata": {},
   "outputs": [],
   "source": [
    "X = ['I enjoy flying',\n",
    "     'I like trains ',\n",
    "     'I like taxi']\n",
    "\n",
    "coocc = pd.DataFrame(\n",
    "             index   = ['I', 'enjoy', 'flying', 'like', 'taxi', 'trains'],\n",
    "             columns = ['I', 'enjoy', 'flying', 'like', 'taxi', 'trains'],\n",
    "             data = np.array([[0, 1, 0, 2, 0, 0],\n",
    "                              [1, 0, 1, 0, 0, 0],\n",
    "                              [0, 1, 0, 0, 0, 0],\n",
    "                              [2, 0, 0, 0, 1, 1],\n",
    "                              [0, 0, 0, 1, 0, 0],\n",
    "                              [0, 0, 0, 1, 0, 0]]))\n",
    "\n",
    "assert coocc.equals(content_embeddings(X, 3))\n",
    "\n",
    "#################################################################3\n",
    "\n",
    "SF = ['сегодня мой сосед опять сверлит стены', \n",
    "      'сегодня мой сосед опять сверлит стены',\n",
    "      'сегодня мой сосед опять сверлит стены',\n",
    "      'сегодня мой сосед опять сверлит стены',\n",
    "      'сегодня мой сосед опять сверлит стены']\n",
    "\n",
    "coocc = pd.DataFrame(\n",
    "             index   = ['мой', 'опять', 'сверлит', 'сегодня', 'сосед', 'стены'],\n",
    "             columns = ['мой', 'опять', 'сверлит', 'сегодня', 'сосед', 'стены'],\n",
    "             data = np.array([[0, 5, 0, 5, 5, 0],\n",
    "                              [5, 0, 5, 0, 5, 5],\n",
    "                              [0, 5, 0, 0, 5, 5],\n",
    "                              [5, 0, 0, 0, 5, 0],\n",
    "                              [5, 5, 5, 5, 0, 0],\n",
    "                              [0, 5, 5, 0, 0, 0]]))\n",
    "\n",
    "assert coocc.equals(content_embeddings(SF, 5))\n",
    "\n",
    "##################################################################\n",
    "\n",
    "Z = ['есть курс на 6 зет который успеть проставить',\n",
    "     'есть таблица чтобы зет проставить',\n",
    "     'сколько дней чтобы проставить зет с хвостовка',\n",
    "     'есть 6 невыставленных зет с этого курс']\n",
    "\n",
    "words = ['6', 'дней', 'есть', 'зет', 'который', 'курс', 'на', 'невыставленных', 'проставить', \n",
    "                        'с', 'сколько', 'таблица', 'успеть', 'хвостовка', 'чтобы', 'этого']\n",
    "\n",
    "coocc = pd.DataFrame(\n",
    "             index   = words,\n",
    "             columns = words,\n",
    "             data = np.array([[0, 0, 2, 2, 1, 1, 1, 1, 0, 1, 0, 0, 1, 0, 0, 0],\n",
    "                              [0, 0, 0, 1, 0, 0, 0, 0, 1, 0, 1, 0, 0, 0, 1, 0],\n",
    "                              [2, 0, 0, 2, 0, 1, 1, 1, 0, 0, 0, 1, 0, 0, 1, 0],\n",
    "                              [2, 1, 2, 0, 1, 2, 1, 1, 3, 2, 0, 1, 1, 1, 2, 1],\n",
    "                              [1, 0, 0, 1, 0, 0, 1, 0, 1, 0, 0, 0, 1, 0, 0, 0],\n",
    "                              [1, 0, 1, 2, 0, 0, 1, 0, 0, 1, 0, 0, 0, 0, 0, 1],\n",
    "                              [1, 0, 1, 1, 1, 1, 0, 0, 0, 0, 0, 0, 0, 0, 0, 0],\n",
    "                              [1, 0, 1, 1, 0, 0, 0, 0, 0, 1, 0, 0, 0, 0, 0, 1],\n",
    "                              [0, 1, 0, 3, 1, 0, 0, 0, 0, 1, 1, 1, 1, 1, 2, 0],\n",
    "                              [1, 0, 0, 2, 0, 1, 0, 1, 1, 0, 0, 0, 0, 1, 1, 1],\n",
    "                              [0, 1, 0, 0, 0, 0, 0, 0, 1, 0, 0, 0, 0, 0, 1, 0],\n",
    "                              [0, 0, 1, 1, 0, 0, 0, 0, 1, 0, 0, 0, 0, 0, 1, 0],\n",
    "                              [1, 0, 0, 1, 1, 0, 0, 0, 1, 0, 0, 0, 0, 0, 0, 0],\n",
    "                              [0, 0, 0, 1, 0, 0, 0, 0, 1, 1, 0, 0, 0, 0, 0, 0],\n",
    "                              [0, 1, 1, 2, 0, 0, 0, 0, 2, 1, 1, 1, 0, 0, 0, 0],\n",
    "                              [0, 0, 0, 1, 0, 1, 0, 1, 0, 1, 0, 0, 0, 0, 0, 0]]))\n",
    "\n",
    "assert coocc.equals(content_embeddings(Z, 7))"
   ]
  },
  {
   "cell_type": "markdown",
   "metadata": {},
   "source": [
    "# SLIDE (1) Директор Дамблдор"
   ]
  },
  {
   "cell_type": "markdown",
   "metadata": {},
   "source": [
    "Надеюсь вы все читали [Гарри Поттер и методы рационального мышления](https://disk.yandex.ru/d/2MFZgIo53yhWUg). Если нет, то немедленно это сделайте. Но сперва обучите Word2Vec, чтобы он понял, что `Дамблдор` - это директор Хогвартса.\n",
    "\n",
    "На вход подается неотформатированная строка из файла `methods_of_rationality.txt`. Отформатируйте текст (разбейте на предложения, уберите пустые строки и спец. символы), обучите модель Word2Vec и верните ее."
   ]
  },
  {
   "cell_type": "markdown",
   "metadata": {},
   "source": [
    "# TASK"
   ]
  },
  {
   "cell_type": "code",
   "execution_count": null,
   "metadata": {},
   "outputs": [],
   "source": [
    "from gensim.models import Word2Vec\n",
    "\n",
    "def harrypotter(text: string) ->:\n",
    "    ### ╰( ͡° ͜ʖ ͡° )つ──☆*:・ﾟ"
   ]
  },
  {
   "cell_type": "markdown",
   "metadata": {},
   "source": [
    "# TESTS"
   ]
  },
  {
   "cell_type": "code",
   "execution_count": 14,
   "metadata": {},
   "outputs": [],
   "source": [
    "from scipy.spatial.distance import cosine\n",
    "\n",
    "with open(\"data/methods_of_rationality.txt\", encoding=\"utf-8\") as f:\n",
    "    data = f.read()\n",
    "\n",
    "model = harrypotter(data)\n",
    "\n",
    "assert cosine(model.get_vector('директор'), model.get_vector('дамблдор')) < 0.1\n",
    "\n",
    "assert cosine(model.get_vector('дементор'), model.get_vector('страх')) < 0.1\n",
    "\n",
    "assert cosine(model.get_vector('крэбб'), model.get_vector('гойл')) < 0.1"
   ]
  },
  {
   "cell_type": "markdown",
   "metadata": {},
   "source": [
    "# SLIDE (1) Toxic preprocess"
   ]
  },
  {
   "cell_type": "markdown",
   "metadata": {},
   "source": [
    "Министерство безопасного интернета \"заботится\" о вашем хрупком внутреннем мире и не позволит каким-то троллям оскорблять вас в интернете. Для решения данной задачи был выделен многомиллонный бюджет на систему отслеживания и ~~уничтожения~~ блокировки недобросовестных пользователей интернета.\n",
    "\n",
    "Ваша задача по комментариям определить токсичных пользователей, а также степень токсичности комментария. За большими подробностями и данными [сюда](https://www.kaggle.com/c/jigsaw-toxic-comment-classification-challenge/overview).\n",
    "\n",
    "Для начала нам надо обработать комментарии и убрать из них все лишнее:\n",
    "* Привести к нижнему регистру\n",
    "* Убрать все кроме букв алфавита (символы и цифры)\n",
    "* Убрать стоп-слова + `http`, `com`, `www`, `org`\n",
    "* Простэммить слова с помощью `PorterStemmer`\n",
    "* Убрать слова длины 1 и больше 20\n"
   ]
  },
  {
   "cell_type": "markdown",
   "metadata": {},
   "source": [
    "# TASK"
   ]
  },
  {
   "cell_type": "code",
   "execution_count": null,
   "metadata": {},
   "outputs": [],
   "source": [
    "import nltk\n",
    "nltk.download('stopwords')\n",
    "\n",
    "def clean_text(text):\n",
    "    ### ╰( ͡° ͜ʖ ͡° )つ──☆*:・ﾟ"
   ]
  },
  {
   "cell_type": "markdown",
   "metadata": {},
   "source": [
    "# TESTS"
   ]
  },
  {
   "cell_type": "code",
   "execution_count": 16,
   "metadata": {},
   "outputs": [],
   "source": [
    "comment1 = '''19 years.... pfft. Shouldn't you be out having a LIFE instead of patrolling Wikipedia?'''\n",
    "clean_comment1 = 'year pfft life instead patrol wikipedia'\n",
    "\n",
    "assert clean_text(comment1) == clean_comment1\n",
    "\n",
    "comment2 = '''It's been one week.\\nVandalizim in the image section? '''\n",
    "clean_comment2 = 'one week vandalizim imag section'\n",
    "\n",
    "assert clean_text(comment2) == clean_comment2\n",
    "\n",
    "comment3 = '''FAGGOT! SHUT UP. GO AHEAD BAN ME I DON'T CARE. JUST SHUT UP AND LEAVE MY ALOOOOOOOOOOOOOOOOOOOOOOOOOOOOOOOOOOOOOONE.'''\n",
    "clean_comment3 = 'faggot shut go ahead ban care shut leav'\n",
    "\n",
    "assert clean_text(comment3) == clean_comment3\n",
    "\n",
    "comment4 = '''\", 2 December 2008 (UTC)'''\n",
    "clean_comment4 = 'decemb utc'\n",
    "\n",
    "assert clean_text(comment4) == clean_comment4\n",
    "\n",
    "comment5 = '''I'm @rogov, please open my site http://www.fiit-nagibator.org '''\n",
    "clean_comment5 = 'rogov pleas open site fiit nagib'\n",
    "\n",
    "assert clean_text(comment5) == clean_comment5"
   ]
  },
  {
   "cell_type": "markdown",
   "metadata": {},
   "source": [
    "## Real part"
   ]
  },
  {
   "cell_type": "code",
   "execution_count": 22,
   "metadata": {},
   "outputs": [
    {
     "name": "stdout",
     "output_type": "stream",
     "text": [
      "CPU times: user 2.9 s, sys: 147 ms, total: 3.04 s\n",
      "Wall time: 3.15 s\n"
     ]
    }
   ],
   "source": [
    "%%time\n",
    "import numpy as np\n",
    "import pandas as pd\n",
    "import matplotlib.pyplot as plt\n",
    "\n",
    "train_df = pd.read_csv('data/train.csv.zip')\n",
    "test_text = pd.read_csv('data/test.csv.zip')\n",
    "test_target = pd.read_csv('data/test_labels.csv.zip')\n",
    "\n",
    "train_text = train_df[['id', 'comment_text']]\n",
    "train_target = train_df.loc[:, [\"id\", \"toxic\", \"severe_toxic\", \"threat\", \n",
    "                                \"obscene\", \"insult\", \"identity_hate\"]]\n"
   ]
  },
  {
   "cell_type": "code",
   "execution_count": 23,
   "metadata": {},
   "outputs": [
    {
     "data": {
      "text/plain": [
       "<BarContainer object of 6 artists>"
      ]
     },
     "execution_count": 23,
     "metadata": {},
     "output_type": "execute_result"
    },
    {
     "data": {
      "image/png": "[encoded data removed]",
      "text/plain": [
       "<Figure size 432x288 with 1 Axes>"
      ]
     },
     "metadata": {
      "needs_background": "light"
     },
     "output_type": "display_data"
    }
   ],
   "source": [
    "# гистограмма откликов\n",
    "comments = [\"toxic\", \"severe_toxic\", \"obscene\", \"threat\", \"insult\", \"identity_hate\"]\n",
    "category_list = [\"toxic\", \"severe_toxic\", \"obscene\", \"threat\", \"insult\", \"identity_hate\"]\n",
    "comments_count = [train_df.toxic.sum(), train_df.severe_toxic.sum(), \n",
    "         train_df.obscene.sum(), train_df.threat.sum(), \n",
    "         train_df.insult.sum(), train_df.identity_hate.sum() ]\n",
    "\n",
    "plt.bar(comments, comments_count, width=0.6)"
   ]
  },
  {
   "cell_type": "code",
   "execution_count": 24,
   "metadata": {},
   "outputs": [
    {
     "data": {
      "text/plain": [
       "<BarContainer object of 2 artists>"
      ]
     },
     "execution_count": 24,
     "metadata": {},
     "output_type": "execute_result"
    },
    {
     "data": {
      "image/png": "[encoded data removed]",
      "text/plain": [
       "<Figure size 432x288 with 1 Axes>"
      ]
     },
     "metadata": {
      "needs_background": "light"
     },
     "output_type": "display_data"
    }
   ],
   "source": [
    "normal_comments = train_df.loc[ \n",
    "    (train_df[\"severe_toxic\"]==0)\n",
    "   &(train_df[\"toxic\"]==0)\n",
    "   &(train_df[\"obscene\"]==0)\n",
    "   &(train_df[\"threat\"]==0)\n",
    "   &(train_df[\"insult\"]==0)\n",
    "   &(train_df[\"identity_hate\"]==0)\n",
    "]\n",
    "\n",
    "toxic_comments = train_df.loc[ \n",
    "     (train_df[\"severe_toxic\"]!=0)\n",
    "   | (train_df[\"toxic\"]!=0)\n",
    "   | (train_df[\"obscene\"]!=0)\n",
    "   | (train_df[\"threat\"]!=0)\n",
    "   | (train_df[\"insult\"]!=0)\n",
    "   | (train_df[\"identity_hate\"]!=0)\n",
    "]\n",
    "\n",
    "plt.bar(['normal', 'toxic'], [len(normal_comments), len(toxic_comments)])"
   ]
  },
  {
   "cell_type": "code",
   "execution_count": 6,
   "metadata": {},
   "outputs": [
    {
     "name": "stderr",
     "output_type": "stream",
     "text": [
      "/home/samstikhin/anaconda3/lib/python3.7/site-packages/ipykernel_launcher.py:2: SettingWithCopyWarning: \n",
      "A value is trying to be set on a copy of a slice from a DataFrame.\n",
      "Try using .loc[row_indexer,col_indexer] = value instead\n",
      "\n",
      "See the caveats in the documentation: https://pandas.pydata.org/pandas-docs/stable/user_guide/indexing.html#returning-a-view-versus-a-copy\n",
      "  \n"
     ]
    },
    {
     "name": "stdout",
     "output_type": "stream",
     "text": [
      "CPU times: user 3min 34s, sys: 293 ms, total: 3min 35s\n",
      "Wall time: 3min 35s\n"
     ]
    }
   ],
   "source": [
    "%%time\n",
    "# клининг\n",
    "train_text['comment_text'] = train_text['comment_text'].apply(clean_text)\n",
    "test_text['comment_text']  = test_text['comment_text'].apply(clean_text)"
   ]
  },
  {
   "cell_type": "code",
   "execution_count": 14,
   "metadata": {},
   "outputs": [],
   "source": [
    "train_df = pd.merge(train_text, train_target)\n",
    "test_df  = pd.merge(test_text, test_target)"
   ]
  },
  {
   "cell_type": "markdown",
   "metadata": {},
   "source": [
    "# SLIDE (1) Toxic vectorizer"
   ]
  },
  {
   "cell_type": "markdown",
   "metadata": {},
   "source": [
    "Теперь наши очищенные коменты преобразуем в `tf-idf` вектора. Причем  будем использовать не просто слова, а биграммы. \n",
    "Обучите векторайзер с параметрами `max_features = 5000` и `ngram_range= (2,2)` на текстах их трейна и теста (сконкатенируйте их предварительно) и верните его.\n",
    "\n",
    "Также вам нужно написать функцию отбора самых важных биграм по датафрейму со значениями tf-idf. Для этого необходимо для каждой биграммы среднее значение в фрейме. Так мы найдем среднюю значимость данной биграммы для наших текстов.\n",
    "\n",
    "#### Output tfidf_top_features:\n",
    "\n",
    "|  | feature    | tfidf  |\n",
    "|--|------------|--------|\n",
    "|0 | две хочу   | 0.1443 |\n",
    "|1 | хочу пицца | 0.1443 |"
   ]
  },
  {
   "cell_type": "markdown",
   "metadata": {},
   "source": [
    "# TASK"
   ]
  },
  {
   "cell_type": "code",
   "execution_count": null,
   "metadata": {},
   "outputs": [],
   "source": [
    "from sklearn.feature_extraction.text import TfidfVectorizer\n",
    "\n",
    "def tfidf_vec(train_text, test_text):\n",
    "    ### ╰( ͡° ͜ʖ ͡° )つ──☆*:・ﾟ\n",
    "\n",
    "def tfidf_top_features(df, top_n=25):\n",
    "    ### ╰( ͡° ͜ʖ ͡° )つ──☆*:・ﾟ"
   ]
  },
  {
   "cell_type": "markdown",
   "metadata": {},
   "source": [
    "# TESTS"
   ]
  },
  {
   "cell_type": "code",
   "execution_count": 18,
   "metadata": {},
   "outputs": [],
   "source": [
    "X = pd.DataFrame(columns=['comment_text'], \n",
    "                          data = ['я недели две хочу пицца',\n",
    "                                 'но вся пицца не пицца которую я хочу',\n",
    "                                 'сделать самой идея хорошая',\n",
    "                                 'но я не знаю которую пицца я хочу'])\n",
    "\n",
    "Y = pd.DataFrame(columns=['comment_text'],\n",
    "                          data = ['есть курс на 6 зет который успеть проставить',\n",
    "                                  'есть таблица чтобы зет проставить',\n",
    "                                  'сколько дней чтобы проставить зет с хвостовка',\n",
    "                                  'есть 6 невыставленных зет с этого курс'])\n",
    "\n",
    "\n",
    "tfidf_vectorizer_bi = tfidf_vec(X, Y)\n",
    "\n",
    "X_bi = tfidf_vectorizer_bi.transform(X[\"comment_text\"])\n",
    "Y_bi = tfidf_vectorizer_bi.transform(Y[\"comment_text\"])\n",
    "\n",
    "\n",
    "\n",
    "features = np.array(tfidf_vectorizer_bi.get_feature_names())\n",
    "\n",
    "df = pd.DataFrame(data=X_bi.toarray(), columns=features)\n",
    "\n",
    "answer = np.array([0.14433757, 0.14433757, 0.14433757, 0.14433757, 0.14433757,\n",
    "       0.14433757, 0.1118034 , 0.1118034 , 0.1118034 , 0.1118034 ,\n",
    "       0.1118034 , 0.10206207, 0.10206207, 0.10206207, 0.10206207,\n",
    "       0.10206207, 0.10206207, 0.        , 0.        , 0.        ,\n",
    "       0.        , 0.        , 0.        , 0.        , 0.        ])\n",
    "\n",
    "\n",
    "\n",
    "assert np.allclose(tfidf_top_features(df)['tfidf'].values, answer, atol=1e-3)"
   ]
  },
  {
   "cell_type": "markdown",
   "metadata": {},
   "source": [
    "## Real part"
   ]
  },
  {
   "cell_type": "code",
   "execution_count": 10,
   "metadata": {},
   "outputs": [
    {
     "name": "stdout",
     "output_type": "stream",
     "text": [
      "CPU times: user 46.7 s, sys: 876 ms, total: 47.5 s\n",
      "Wall time: 47.5 s\n"
     ]
    }
   ],
   "source": [
    "%%time\n",
    "tfidf_vectorizer_bi = tfidf_vec(train_text, test_text)\n",
    "\n",
    "features = np.array(tfidf_vectorizer_bi.get_feature_names())\n",
    "\n",
    "train_bigrams = tfidf_vectorizer_bi.transform(train_text[\"comment_text\"])\n",
    "test_bigrams  = tfidf_vectorizer_bi.transform( test_text[\"comment_text\"])"
   ]
  },
  {
   "cell_type": "code",
   "execution_count": 11,
   "metadata": {},
   "outputs": [
    {
     "data": {
      "image/png": "[encoded data removed]",
      "text/plain": [
       "<Figure size 1152x1584 with 7 Axes>"
      ]
     },
     "metadata": {
      "needs_background": "light"
     },
     "output_type": "display_data"
    }
   ],
   "source": [
    "import matplotlib.gridspec as gridspec \n",
    "import seaborn as sns\n",
    "color = sns.color_palette()\n",
    "import warnings\n",
    "warnings.filterwarnings('ignore')\n",
    "\n",
    "\n",
    "# создали большую картинку\n",
    "plt.figure(figsize=(16,22))\n",
    "plt.suptitle(\"TF_IDF Top words per class(Bigrams)\",fontsize=20)\n",
    "gridspec.GridSpec(4,2)\n",
    "\n",
    "# toxic\n",
    "toxic_bigrams = train_bigrams[train_target.index[train_target['toxic']==1]].toarray()\n",
    "df = pd.DataFrame(data=toxic_bigrams, columns=features)\n",
    "top_toxic = tfidf_top_features(df)\n",
    "plt.subplot2grid((4,2),(0,0))\n",
    "sns.barplot(top_toxic.feature.iloc[0:5], \n",
    "            top_toxic.tfidf.iloc[0:5],\n",
    "            color=color[0])\n",
    "plt.title(\"class : Toxic\",fontsize=15)\n",
    "plt.ylabel('TF-IDF score', fontsize=12)\n",
    "\n",
    "# 'severe_toxic'\n",
    "toxic_bigrams = train_bigrams[train_target.index[train_target['severe_toxic']==1]].toarray()\n",
    "df = pd.DataFrame(data=toxic_bigrams, columns=features)\n",
    "top_toxic = tfidf_top_features(df)\n",
    "plt.subplot2grid((4,2),(0,1))\n",
    "sns.barplot(top_toxic.feature.iloc[0:5],\n",
    "            top_toxic.tfidf.iloc[0:5],\n",
    "            color=color[1])\n",
    "plt.title(\"class : Severe toxic\",fontsize=15)\n",
    "plt.ylabel('TF-IDF score', fontsize=12)\n",
    "\n",
    "\n",
    "# threat\n",
    "toxic_bigrams = train_bigrams[train_target.index[train_target['obscene']==1]].toarray()\n",
    "df = pd.DataFrame(data=toxic_bigrams, columns=features)\n",
    "top_toxic = tfidf_top_features(df)\n",
    "plt.subplot2grid((4,2),(1,0))\n",
    "sns.barplot(top_toxic.feature.iloc[0:5],\n",
    "            top_toxic.tfidf.iloc[0:5],\n",
    "            color=color[2])\n",
    "plt.title(\"class : Obscene\",fontsize=15)\n",
    "plt.ylabel('TF-IDF score', fontsize=12)\n",
    "\n",
    "\n",
    "# obscene\n",
    "toxic_bigrams = train_bigrams[train_target.index[train_target['threat']==1]].toarray()\n",
    "df = pd.DataFrame(data=toxic_bigrams, columns=features)\n",
    "top_toxic = tfidf_top_features(df)\n",
    "plt.subplot2grid((4,2),(1,1))\n",
    "sns.barplot(top_toxic.feature.iloc[0:5],\n",
    "            top_toxic.tfidf.iloc[0:5],\n",
    "            color=color[3])\n",
    "plt.title(\"class : Threat\",fontsize=15)\n",
    "plt.ylabel('TF-IDF score', fontsize=12)\n",
    "\n",
    "\n",
    "# obscene\n",
    "toxic_bigrams = train_bigrams[train_target.index[train_target['insult']==1]].toarray()\n",
    "df = pd.DataFrame(data=toxic_bigrams, columns=features)\n",
    "top_toxic = tfidf_top_features(df)\n",
    "plt.subplot2grid((4,2),(2,0))\n",
    "sns.barplot(top_toxic.feature.iloc[0:5],\n",
    "            top_toxic.tfidf.iloc[0:5],\n",
    "            color=color[4])\n",
    "plt.title(\"class : Insult\",fontsize=15)\n",
    "plt.ylabel('TF-IDF score', fontsize=12)\n",
    "\n",
    "\n",
    "# obscene\n",
    "toxic_bigrams = train_bigrams[train_target.index[train_target['identity_hate']==1]].toarray()\n",
    "df = pd.DataFrame(data=toxic_bigrams, columns=features)\n",
    "top_toxic = tfidf_top_features(df)\n",
    "plt.subplot2grid((4,2),(2,1))\n",
    "sns.barplot(top_toxic.feature.iloc[0:5],\n",
    "            top_toxic.tfidf.iloc[0:5],\n",
    "            color=color[5])\n",
    "plt.title(\"class : Identity hate\",fontsize=15)\n",
    "plt.ylabel('TF-IDF score', fontsize=12)\n",
    "\n",
    "\n",
    "# normal\n",
    "normal_mask = (train_target[\"severe_toxic\"]==0) \\\n",
    "             &(train_target[\"toxic\"]==0) \\\n",
    "             &(train_target[\"obscene\"]==0) \\\n",
    "             &(train_target[\"threat\"]==0) \\\n",
    "             &(train_target[\"insult\"]==0) \\\n",
    "             &(train_target[\"identity_hate\"]==0)\n",
    "\n",
    "toxic_bigrams = train_bigrams[train_target.index[normal_mask]].toarray()\n",
    "df = pd.DataFrame(data=toxic_bigrams, columns=features)\n",
    "top_toxic = tfidf_top_features(df)\n",
    "plt.subplot2grid((4,2),(3,0),colspan=2)\n",
    "sns.barplot(top_toxic.feature.iloc[0:9], \n",
    "            top_toxic.tfidf.iloc[0:9])\n",
    "plt.title(\"class : Clean\",fontsize=15)\n",
    "plt.ylabel('TF-IDF score', fontsize=12)\n",
    "\n",
    "plt.show()"
   ]
  },
  {
   "cell_type": "markdown",
   "metadata": {},
   "source": [
    "# SLIDE (2) Toxic undersampling"
   ]
  },
  {
   "cell_type": "markdown",
   "metadata": {},
   "source": [
    "После преобразования в `tf-idf`, казалось бы, осталось просто обучить любую простую модель и готово. Однако в этой задаче есть еще один подвох.\n",
    "\n",
    "Как вы могли заметить соотношение нормальных сообщений к токсичным составляет примерно 10:1. А если брать подклассы `identity_hate` или `threat`, то там соотношение с нормальными комментами будет достигать 100 к 1. В последнем случае модель, которая говорит, что **все сообщения нетоксичные**, будет давать **99% accuracy**! \n",
    "\n",
    "В данном случае нужно смотреть на соотношение между `precision` и `recall`. Здесь возможны 2 крайности:\n",
    "\n",
    "* Закрыли только **самые злые комменты**, а ,большую часть упустили. В этом случае `precision` будет $100%$, но будет крайне маленький `recall`.\n",
    "\n",
    "* Закрыли все подозрительное, что даже захватили хорошие комменты. В этом случае `recall` будет $100%$, но будет крайне маленький `precision`. \n",
    "\n",
    "Чтобы избежать обеих крайностей будем стараться максимизировать `f1-score` - [комбинацию](https://en.wikipedia.org/wiki/F-score) `precision` и `recall`.\n",
    "\n",
    "Однако, если запустить обычное обучение, мы с большой вероятностью скатимся один из краевых вариантов. Как же этого избежать?\n",
    "\n",
    "Есть 2 [известные техники](https://habr.com/ru/post/461285/) балансировки выборок: `undersampling` и `oversampling`. Проще всего их понять по [картинке](https://github.com/samstikhin/ml2021/blob/master/09-NLP/images/sampling.png).\n",
    "\n",
    "<img src=\"images/sampling.png\" width=600 />\n",
    "\n",
    "* Undersampling. Случайно собираем маленькую выборку из класса с большим числом элементов.\n",
    "* Oversampling. Собираем большую выборку из класса с малым количеством элементов, путем копирования этих элементов.\n",
    "\n",
    "Ваша задача реализовать oversampling и добиться приемлимого`f1-score` для каждого класса. \n",
    "\n",
    "Вы можете реализовать oversampling сами или можете воспользоваться библиотекой [imblearn](https://imbalanced-learn.org/stable/over_sampling.html#a-practical-guide)\n",
    "\n",
    "Чтобы добиться результата, можно создать не две одинаковые выборки, а выборки в некоторой пропорции например 1 к 4. В `imblearn` надо поиграться с параметром `sampling_strategy`. "
   ]
  },
  {
   "cell_type": "markdown",
   "metadata": {},
   "source": [
    "# TASK"
   ]
  },
  {
   "cell_type": "code",
   "execution_count": null,
   "metadata": {},
   "outputs": [],
   "source": [
    "from sklearn.metrics import accuracy_score, precision_score, recall_score, f1_score\n",
    "from sklearn.model_selection import StratifiedKFold\n",
    "from imblearn.over_sampling import SMOTE\n",
    "\n",
    "def simple_sample(X, y):\n",
    "    return (X, y)\n",
    "    \n",
    "def over_sample(X,y):\n",
    "    ### ╰( ͡° ͜ʖ ͡° )つ──☆*:・ﾟ\n",
    "\n",
    "def apply_model(model, X, y, splits, sample_func):\n",
    "    \n",
    "    kfold = #StratifiedKFold\n",
    "    accuracy, precision, recall, f1 = [], [], [], []\n",
    "    \n",
    "    for train, test in kfold.split(X, y):\n",
    "        \n",
    "        X_smote, y_smote = sample_func(train, test)\n",
    "        \n",
    "        y_pred = # model learning and prediction\n",
    "        \n",
    "        #logging accuracy, precision, recall, f1\n",
    "        \n",
    "    result = {\n",
    "        \"accuracy\":  np.mean(accuracy),\n",
    "        \"precision\": np.mean(precision),\n",
    "        \"recall\":    np.mean(recall),\n",
    "        \"f1_score\":  np.mean(f1)\n",
    "    }        \n",
    "  \n",
    "    return result"
   ]
  },
  {
   "cell_type": "markdown",
   "metadata": {},
   "source": [
    "# Tests"
   ]
  },
  {
   "cell_type": "code",
   "execution_count": 21,
   "metadata": {},
   "outputs": [],
   "source": [
    "from sklearn.linear_model import LogisticRegression\n",
    "import scipy\n",
    "\n",
    "X_bigrams_test = scipy.sparse.load_npz('data/oversample_test_bigrams.npz')\n",
    "y_test = pd.read_csv('data/oversample_test_labels.csv')\n",
    "\n",
    "lr_model = LogisticRegression(C=0.1, solver='sag')\n",
    "\n",
    "label  = 'toxic'\n",
    "model_metrics = apply_model(lr_model, X_bigrams_test, y_test[label], \n",
    "                            splits=3, sample_func=over_sample)\n",
    "assert model_metrics['f1_score'] > 0.25\n",
    "\n",
    "label  = 'severe_toxic'\n",
    "model_metrics = apply_model(lr_model, X_bigrams_test, y_test[label], \n",
    "                            splits=3, sample_func=over_sample)\n",
    "assert model_metrics['f1_score'] > 0.3\n",
    "\n",
    "label  = 'obscene'\n",
    "model_metrics = apply_model(lr_model, X_bigrams_test, y_test[label], \n",
    "                            splits=3, sample_func=over_sample)\n",
    "assert model_metrics['f1_score'] > 0.3\n",
    "\n",
    "label  = 'threat'\n",
    "model_metrics = apply_model(lr_model, X_bigrams_test, y_test[label], \n",
    "                            splits=3, sample_func=over_sample)\n",
    "assert model_metrics['f1_score'] > 0.1\n",
    "\n",
    "label  = 'insult'\n",
    "model_metrics = apply_model(lr_model, X_bigrams_test, y_test[label], \n",
    "                            splits=3, sample_func=over_sample)\n",
    "assert model_metrics['f1_score'] > 0.3\n",
    "\n",
    "label  = 'identity_hate'\n",
    "model_metrics = apply_model(lr_model, X_bigrams_test, y_test[label], \n",
    "                            splits=3, sample_func=over_sample)\n",
    "assert model_metrics['f1_score'] > 0.1"
   ]
  },
  {
   "cell_type": "markdown",
   "metadata": {},
   "source": [
    "## real life"
   ]
  },
  {
   "cell_type": "code",
   "execution_count": 67,
   "metadata": {},
   "outputs": [
    {
     "name": "stdout",
     "output_type": "stream",
     "text": [
      "~~~~~~~~~~~~ Logistic Regression ~~~~~~~~~~~~\n",
      "------RESULT FOR  toxic---------\n",
      "Accuracy:  90.94%\n",
      "Precision: 95.71%\n",
      "Recall:    5.68%\n",
      "F1-score:  10.72%\n",
      "------RESULT FOR  severe_toxic---------\n",
      "Accuracy:  99.00%\n",
      "Precision: 100.00%\n",
      "Recall:    0.00%\n",
      "F1-score:  0.00%\n",
      "------RESULT FOR  obscene---------\n",
      "Accuracy:  95.01%\n",
      "Precision: 97.08%\n",
      "Recall:    5.91%\n",
      "F1-score:  11.13%\n",
      "------RESULT FOR  threat---------\n",
      "Accuracy:  99.70%\n",
      "Precision: 100.00%\n",
      "Recall:    0.00%\n",
      "F1-score:  0.00%\n",
      "------RESULT FOR  insult---------\n",
      "Accuracy:  95.25%\n",
      "Precision: 89.18%\n",
      "Recall:    4.30%\n",
      "F1-score:  8.21%\n",
      "------RESULT FOR  identity_hate---------\n",
      "Accuracy:  99.12%\n",
      "Precision: 100.00%\n",
      "Recall:    0.00%\n",
      "F1-score:  0.00%\n"
     ]
    }
   ],
   "source": [
    "from sklearn.linear_model import LogisticRegression\n",
    "\n",
    "lr_model = LogisticRegression(C=0.1, solver='sag')\n",
    "labels = ['toxic', 'severe_toxic', 'obscene', 'threat', 'insult', 'identity_hate']\n",
    "\n",
    "print(\"~~~~~~~~~~~~ Logistic Regression ~~~~~~~~~~~~\")\n",
    "for class_name in labels:\n",
    "    y = train_target[class_name]\n",
    "    print(\"------RESULT FOR  {0}---------\".format(class_name))\n",
    "    model_metrics = apply_model(lr_model, train_bigrams, y, splits=3, sample_func=simple_sample)\n",
    "    print('Accuracy:  %.2f%%' % (model_metrics['accuracy']*100))\n",
    "    print('Precision: %.2f%%' % (model_metrics['precision']*100))\n",
    "    print('Recall:    %.2f%%' % (model_metrics['recall']*100))\n",
    "    print('F1-score:  %.2f%%' % (model_metrics['f1_score']*100))"
   ]
  },
  {
   "cell_type": "code",
   "execution_count": 68,
   "metadata": {},
   "outputs": [
    {
     "name": "stdout",
     "output_type": "stream",
     "text": [
      "~~~~~~~~~~~~ Logistic Regression ~~~~~~~~~~~~\n",
      "------RESULT FOR  toxic---------\n",
      "Accuracy:  91.24%\n",
      "Precision: 59.97%\n",
      "Recall:    25.84%\n",
      "F1-score:  36.11%\n",
      "------RESULT FOR  severe_toxic---------\n",
      "Accuracy:  97.99%\n",
      "Precision: 24.97%\n",
      "Recall:    50.16%\n",
      "F1-score:  33.31%\n",
      "------RESULT FOR  obscene---------\n",
      "Accuracy:  95.23%\n",
      "Precision: 59.11%\n",
      "Recall:    32.30%\n",
      "F1-score:  41.75%\n",
      "------RESULT FOR  threat---------\n",
      "Accuracy:  97.91%\n",
      "Precision: 5.36%\n",
      "Recall:    35.98%\n",
      "F1-score:  9.33%\n",
      "------RESULT FOR  insult---------\n",
      "Accuracy:  95.10%\n",
      "Precision: 50.65%\n",
      "Recall:    32.41%\n",
      "F1-score:  39.52%\n",
      "------RESULT FOR  identity_hate---------\n",
      "Accuracy:  97.06%\n",
      "Precision: 9.95%\n",
      "Recall:    29.04%\n",
      "F1-score:  14.82%\n"
     ]
    }
   ],
   "source": [
    "from sklearn.linear_model import LogisticRegression\n",
    "\n",
    "lr_model = LogisticRegression(C=0.1, solver='sag')\n",
    "labels = ['toxic', 'severe_toxic', 'obscene', 'threat', 'insult', 'identity_hate']\n",
    "\n",
    "print(\"~~~~~~~~~~~~ Logistic Regression ~~~~~~~~~~~~\")\n",
    "for class_name in labels:\n",
    "    y = train_target[class_name]\n",
    "    print(\"------RESULT FOR  {0}---------\".format(class_name))\n",
    "    model_metrics = apply_model(lr_model, train_bigrams, y, splits=3, sample_func=over_sample)\n",
    "    print('Accuracy:  %.2f%%' % (model_metrics['accuracy']*100))\n",
    "    print('Precision: %.2f%%' % (model_metrics['precision']*100))\n",
    "    print('Recall:    %.2f%%' % (model_metrics['recall']*100))\n",
    "    print('F1-score:  %.2f%%' % (model_metrics['f1_score']*100))"
   ]
  },
  {
   "cell_type": "markdown",
   "metadata": {},
   "source": [
    "# SLIDE (1) Toxic Token"
   ]
  },
  {
   "cell_type": "markdown",
   "metadata": {},
   "source": [
    "Мы получили решение через классическое машинное обучение, теперь давайте получим решение через нейронки. \n",
    "\n",
    "Для этого для начала нам нужно:\n",
    "\n",
    "* Получить словарь токенов (упорядочен по алфавиту, 0-ой токен `PAD`, 1-ый токен `UNK`). Токены, которые **меньше чем** `min_count` выбрасывайте из словаря. Заменим потом их на `UNK`.\n",
    "\n",
    "* Преобразовать коммент в строку токенов, а также заполнить нулями, чтобы получить вектор длины `max_len`. Если коммент очень длинный, возьмите первые `max_len` токенов, а остальные отбросьте (их крайне мало). Словам, которых нет в словаре сопоставляем значение $1$ (id токена `UNK`). \n",
    "\n",
    "* Сделать датасет, который будем использовать для создания dataloader.\n"
   ]
  },
  {
   "cell_type": "markdown",
   "metadata": {},
   "source": [
    "# TASK"
   ]
  },
  {
   "cell_type": "code",
   "execution_count": null,
   "metadata": {},
   "outputs": [],
   "source": [
    "from torch.utils.data import Dataset\n",
    "\n",
    "def tokenization(texts, min_count):\n",
    "    ### ╰( ͡° ͜ʖ ͡° )つ──☆*:・ﾟ\n",
    "    return tokens, token_to_id\n",
    "\n",
    "def pad_and_tok_comment(comment, token_to_id, max_len):\n",
    "    ### ╰( ͡° ͜ʖ ͡° )つ──☆*:・ﾟ\n",
    "    return \n",
    "\n",
    "class LabelDataset(Dataset):\n",
    "    def __init__(self, dataframe, label):\n",
    "        self.df = dataframe\n",
    "        self.label = label\n",
    "        \n",
    "        ### ╰( ͡° ͜ʖ ͡° )つ──☆*:・ﾟ\n",
    "        self.tokens =      ### ╰( ͡° ͜ʖ ͡° )つ──☆*:・ﾟ\n",
    "        self.token_to_id = ### ╰( ͡° ͜ʖ ͡° )つ──☆*:・ﾟ\n",
    "        self.max_len =     ### ╰( ͡° ͜ʖ ͡° )つ──☆*:・ﾟ\n",
    "\n",
    "    def __len__(self):\n",
    "        return len(self.df)\n",
    "\n",
    "    def __getitem__(self, index):\n",
    "        return ## padded_tokenized_comment, y_label"
   ]
  },
  {
   "cell_type": "markdown",
   "metadata": {},
   "source": [
    "# TEST"
   ]
  },
  {
   "cell_type": "code",
   "execution_count": 26,
   "metadata": {},
   "outputs": [],
   "source": [
    "texts =  ['я недели две хочу пицца',\n",
    "          'но вся пицца не пицца которую я хочу',\n",
    "          'сделать две самой идея хорошая',\n",
    "          'но я не знаю которую пицца я хочу',\n",
    "          'есть курс на 6 зет который успеть проставить',\n",
    "          'есть таблица чтобы зет проставить',\n",
    "          'сколько дней чтобы проставить зет с две хвостовка',\n",
    "          'есть 6 невыставленных зет с этого курс']\n",
    "\n",
    "tokens, token_to_id = tokenization(texts, min_count=3)\n",
    "\n",
    "\n",
    "\n",
    "assert tokens == ['PAD', 'UNK', 'две', 'есть', 'зет', 'пицца', 'проставить', 'хочу', 'я']\n",
    "assert token_to_id['PAD'] == 0\n",
    "assert token_to_id['UNK'] == 1\n",
    "\n",
    "max_len = 8\n",
    "\n",
    "assert np.allclose(pad_and_tok_comment('я недели две хочу пицца', token_to_id, max_len), \n",
    "                   np.array([8, 1, 2, 7, 5, 0, 0, 0]))\n",
    "\n",
    "assert np.allclose(pad_and_tok_comment('я недели две хочу пицца', token_to_id, max_len=4), \n",
    "                   np.array([8, 1, 2, 7]))\n",
    "\n",
    "\n",
    "\n",
    "df = pd.DataFrame({'comment_text': texts, \n",
    "                   'pizza': [1, 1, 1, 1, 0, 0, 0, 0],\n",
    "                   'zet' : [0, 0, 0, 0, 1, 1, 1, 1]})\n",
    "\n",
    "pizza_dataset = LabelDataset(df, 'pizza', token_to_id, max_len)\n",
    "zet_dataset = LabelDataset(df, 'zet', token_to_id, max_len)\n",
    "\n",
    "assert np.allclose(pizza_dataset[0][0], np.array([8, 1, 2, 7, 5, 0, 0, 0]))\n",
    "assert pizza_dataset[0][1] == 1\n",
    "assert np.allclose(pizza_dataset[6][0], np.array([1, 1, 1, 6, 4, 1, 2, 1]))\n",
    "assert pizza_dataset[6][1] == 0\n",
    "assert np.allclose(zet_dataset[3][0], np.array([1, 8, 1, 1, 1, 5, 8, 7]))\n",
    "assert zet_dataset[3][1] == 0\n",
    "assert np.allclose(zet_dataset[6][0], np.array([1, 1, 1, 6, 4, 1, 2, 1]))\n",
    "assert zet_dataset[6][1] == 1\n"
   ]
  },
  {
   "cell_type": "markdown",
   "metadata": {},
   "source": [
    "## real life"
   ]
  },
  {
   "cell_type": "code",
   "execution_count": 209,
   "metadata": {},
   "outputs": [],
   "source": [
    "from torch.utils.data import Dataset, DataLoader\n",
    "from sklearn.model_selection import train_test_split\n",
    "\n",
    "train_df = pd.merge(train_text, train_target)\n",
    "test_df  = pd.merge(test_text, test_target)\n",
    "\n",
    "train, val = train_test_split(train_df, test_size=0.2, \n",
    "                               stratify=train_df['toxic'])\n",
    "\n",
    "min_count = 10\n",
    "tokens, token_to_id = tokenization(train_text['comment_text'].values.tolist(), min_count=10)\n",
    "\n",
    "max_len = 500\n",
    "\n",
    "dataloaders = {'train' : DataLoader(LabelDataset(train, 'toxic',token_to_id, max_len), \n",
    "                              batch_size=32, \n",
    "                              shuffle=False),\n",
    "              'val' :    DataLoader(LabelDataset(val, 'toxic', token_to_id, max_len), \n",
    "                              batch_size=32, \n",
    "                              shuffle=False),\n",
    "              'test' :   DataLoader(LabelDataset(test, 'toxic', token_to_id, max_len), \n",
    "                              batch_size=32, \n",
    "                              shuffle=False),      \n",
    "              }"
   ]
  },
  {
   "cell_type": "markdown",
   "metadata": {},
   "source": [
    "# SLIDE (1) Toxic network"
   ]
  },
  {
   "cell_type": "markdown",
   "metadata": {},
   "source": [
    "Теперь нам нужно подготовить нейронку, которая будет обучать эмбеддинги и превращать наши ветора из id токенов в ветор длины 2 - вероятности `нетоксичного` и `токсичного` класса. (Для упрощения задачи обучим нейронку только для одного класса, для остальных классов - задача по желанию).\n",
    "\n",
    "Для нейронки будем использовать класс `TextModel`. Класса `sequential` недостаточно, так как мы после использование эмбеддингов хотим усреднить вектора слов одного предложения. (Однако вы можете создать свой модуль усредния наследуясь от `nn.Module`, опять же на ваш вкус)\n",
    "\n",
    "Осталось только написать еще метрику, которую будем использовать. Как мы уже выяснили ранее использовать `Accuracy` в текущей задаче нельзя. Поэтому напишем свой F1_score (да, да, торч ущербный и в нем нет встроенного f1score). "
   ]
  },
  {
   "cell_type": "markdown",
   "metadata": {},
   "source": [
    "# TASK"
   ]
  },
  {
   "cell_type": "code",
   "execution_count": null,
   "metadata": {},
   "outputs": [],
   "source": [
    "from torch import nn\n",
    "\n",
    "class TextModel(nn.Module): #\n",
    "    def __init__(self, vocab_size, embed_dim=64):\n",
    "        super(TextModel, self).__init__()\n",
    "        \n",
    "        self.embedding = ### ╰( ͡° ͜ʖ ͡° )つ──☆*:・ﾟ      \n",
    "        self.linear    = ### ╰( ͡° ͜ʖ ͡° )つ──☆*:・ﾟ \n",
    "        \n",
    "\n",
    "    def forward(self, text):  #text: batch_size x max_len  \n",
    "        return # создать эмбеддинги из текстов, усреднить, схлопнуть в вектор длины 2 черех линейный слой\n",
    "    \n",
    "    \n",
    "class F1_score(nn.Module):\n",
    "    def __init__(self):\n",
    "        super(F1_score, self).__init__()\n",
    "\n",
    "    def forward(self, y_pred, y_true):\n",
    "        tp = ### ╰( ͡° ͜ʖ ͡° )つ──☆*:・ﾟ \n",
    "        tn = ### ╰( ͡° ͜ʖ ͡° )つ──☆*:・ﾟ \n",
    "        fp = ### ╰( ͡° ͜ʖ ͡° )つ──☆*:・ﾟ \n",
    "        fn = ### ╰( ͡° ͜ʖ ͡° )つ──☆*:・ﾟ \n",
    "\n",
    "        epsilon = 1e-7\n",
    "\n",
    "        precision = tp / (tp + fp + epsilon)\n",
    "        recall = tp / (tp + fn + epsilon)\n",
    "\n",
    "        f1 = ### ╰( ͡° ͜ʖ ͡° )つ──☆*:・ﾟ \n",
    "        return f1"
   ]
  },
  {
   "cell_type": "markdown",
   "metadata": {},
   "source": [
    "# TESTS"
   ]
  },
  {
   "cell_type": "code",
   "execution_count": 28,
   "metadata": {},
   "outputs": [],
   "source": [
    "import torch\n",
    "\n",
    "model = TextModel(vocab_size=10)\n",
    "\n",
    "assert model.embedding.num_embeddings == 10\n",
    "assert model.linear.out_features == 2\n",
    "assert model.linear.in_features == 64\n",
    "\n",
    "\n",
    "model.embedding.weight.data.fill_(1)\n",
    "model.linear.weight.data.fill_(1)\n",
    "model.linear.bias.data.fill_(1)\n",
    "\n",
    "\n",
    "a = torch.tensor([[3,6,5,1,0],\n",
    "                  [9,6,5,2,4]])\n",
    "\n",
    "assert torch.allclose(model(a), torch.tensor([[65., 65.],\n",
    "                                              [65., 65.]]), atol=1e-0)\n",
    "\n",
    "######################################################################3\n",
    "\n",
    "from sklearn.metrics import f1_score\n",
    "x = torch.tensor([1,1,1,0,0,1,0,1,0,1,0,1,0,1,0,1,0,1,1,1,1,0,0,0,1,1,1,1,0,1,0,1,0,1])\n",
    "y = torch.tensor([0,0,1,0,0,1,1,1,1,1,0,1,1,1,0,1,0,1,1,1,1,0,0,0,0,0,0,1,0,1,0,1,0,0])\n",
    "\n",
    "\n",
    "assert np.abs(f1_score(x.numpy(), y.numpy()) - F1_score()(x,y).item()) < 1e-3"
   ]
  },
  {
   "cell_type": "markdown",
   "metadata": {},
   "source": [
    "# SLIDE (1) Toxic learning"
   ]
  },
  {
   "cell_type": "markdown",
   "metadata": {},
   "source": [
    "Вот и финальная битва. \n",
    "\n",
    "Возьмите pipeline из ImageNet. Замените в нем даталоадеры, модель и метрику сравнения. И запускайтесь!\n",
    "\n",
    "Ваша сеть за 15 эпох должна превысить `F1_score` 0.7. \n",
    "\n",
    "После этого остановите модель и посчитайте ответ для первых 300 комментов из тестового сета (`test_text`). \n",
    "\n",
    "Результат на этом сете и нужно отправить в форму на юлерне. "
   ]
  },
  {
   "cell_type": "markdown",
   "metadata": {},
   "source": [
    "# TASK"
   ]
  },
  {
   "cell_type": "code",
   "execution_count": null,
   "metadata": {},
   "outputs": [],
   "source": [
    "def toxic():\n",
    "    return y = np.array([### ╰( ͡° ͜ʖ ͡° )つ──☆*:・ﾟ])"
   ]
  }
 ],
 "metadata": {
  "kernelspec": {
   "display_name": "Python 3",
   "language": "python",
   "name": "python3"
  },
  "language_info": {
   "codemirror_mode": {
    "name": "ipython",
    "version": 3
   },
   "file_extension": ".py",
   "mimetype": "text/x-python",
   "name": "python",
   "nbconvert_exporter": "python",
   "pygments_lexer": "ipython3",
   "version": "3.8.8"
  }
 },
 "nbformat": 4,
 "nbformat_minor": 4
}
