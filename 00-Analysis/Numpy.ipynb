{
 "cells": [
  {
   "cell_type": "markdown",
   "metadata": {
    "colab_type": "text",
    "id": "syRqq4Wz4g_y"
   },
   "source": [
    "# [Numpy](https://numpy.org/devdocs/user/quickstart.html)"
   ]
  },
  {
   "cell_type": "markdown",
   "metadata": {},
   "source": [
    "Ядром пакета NumPy является объект [ndarray](https://docs.scipy.org/doc/numpy/reference/generated/numpy.ndarray.html)\n",
    "\n",
    "Библиотека NumPy предоставляет следующие **возможности**: \n",
    "* работать с многомерными массивами (включая матрицы)\n",
    "* производить быстрое вычисление математических функций на многомерных массивах\n"
   ]
  },
  {
   "cell_type": "markdown",
   "metadata": {
    "colab_type": "text",
    "id": "Q3FwCBGX7_9A"
   },
   "source": [
    "Сегодня нам потребуются следующие библиотеки:"
   ]
  },
  {
   "cell_type": "code",
   "execution_count": 1,
   "metadata": {
    "colab": {},
    "colab_type": "code",
    "id": "HWSvI_Yd3ocj"
   },
   "outputs": [],
   "source": [
    "import numpy as np\n",
    "import matplotlib.pyplot as plt\n",
    "%matplotlib inline \n",
    "## рисование графиков внутри ноутбука"
   ]
  },
  {
   "cell_type": "markdown",
   "metadata": {},
   "source": [
    "### Справка"
   ]
  },
  {
   "cell_type": "code",
   "execution_count": 2,
   "metadata": {
    "scrolled": true
   },
   "outputs": [
    {
     "data": {
      "text/plain": [
       "\u001b[0;31mInit signature:\u001b[0m \u001b[0mnp\u001b[0m\u001b[0;34m.\u001b[0m\u001b[0mndarray\u001b[0m\u001b[0;34m(\u001b[0m\u001b[0mself\u001b[0m\u001b[0;34m,\u001b[0m \u001b[0;34m/\u001b[0m\u001b[0;34m,\u001b[0m \u001b[0;34m*\u001b[0m\u001b[0margs\u001b[0m\u001b[0;34m,\u001b[0m \u001b[0;34m**\u001b[0m\u001b[0mkwargs\u001b[0m\u001b[0;34m)\u001b[0m\u001b[0;34m\u001b[0m\u001b[0;34m\u001b[0m\u001b[0m\n",
       "\u001b[0;31mDocstring:\u001b[0m     \n",
       "ndarray(shape, dtype=float, buffer=None, offset=0,\n",
       "        strides=None, order=None)\n",
       "\n",
       "An array object represents a multidimensional, homogeneous array\n",
       "of fixed-size items.  An associated data-type object describes the\n",
       "format of each element in the array (its byte-order, how many bytes it\n",
       "occupies in memory, whether it is an integer, a floating point number,\n",
       "or something else, etc.)\n",
       "\n",
       "Arrays should be constructed using `array`, `zeros` or `empty` (refer\n",
       "to the See Also section below).  The parameters given here refer to\n",
       "a low-level method (`ndarray(...)`) for instantiating an array.\n",
       "\n",
       "For more information, refer to the `numpy` module and examine the\n",
       "methods and attributes of an array.\n",
       "\n",
       "Parameters\n",
       "----------\n",
       "(for the __new__ method; see Notes below)\n",
       "\n",
       "shape : tuple of ints\n",
       "    Shape of created array.\n",
       "dtype : data-type, optional\n",
       "    Any object that can be interpreted as a numpy data type.\n",
       "buffer : object exposing buffer interface, optional\n",
       "    Used to fill the array with data.\n",
       "offset : int, optional\n",
       "    Offset of array data in buffer.\n",
       "strides : tuple of ints, optional\n",
       "    Strides of data in memory.\n",
       "order : {'C', 'F'}, optional\n",
       "    Row-major (C-style) or column-major (Fortran-style) order.\n",
       "\n",
       "Attributes\n",
       "----------\n",
       "T : ndarray\n",
       "    Transpose of the array.\n",
       "data : buffer\n",
       "    The array's elements, in memory.\n",
       "dtype : dtype object\n",
       "    Describes the format of the elements in the array.\n",
       "flags : dict\n",
       "    Dictionary containing information related to memory use, e.g.,\n",
       "    'C_CONTIGUOUS', 'OWNDATA', 'WRITEABLE', etc.\n",
       "flat : numpy.flatiter object\n",
       "    Flattened version of the array as an iterator.  The iterator\n",
       "    allows assignments, e.g., ``x.flat = 3`` (See `ndarray.flat` for\n",
       "    assignment examples; TODO).\n",
       "imag : ndarray\n",
       "    Imaginary part of the array.\n",
       "real : ndarray\n",
       "    Real part of the array.\n",
       "size : int\n",
       "    Number of elements in the array.\n",
       "itemsize : int\n",
       "    The memory use of each array element in bytes.\n",
       "nbytes : int\n",
       "    The total number of bytes required to store the array data,\n",
       "    i.e., ``itemsize * size``.\n",
       "ndim : int\n",
       "    The array's number of dimensions.\n",
       "shape : tuple of ints\n",
       "    Shape of the array.\n",
       "strides : tuple of ints\n",
       "    The step-size required to move from one element to the next in\n",
       "    memory. For example, a contiguous ``(3, 4)`` array of type\n",
       "    ``int16`` in C-order has strides ``(8, 2)``.  This implies that\n",
       "    to move from element to element in memory requires jumps of 2 bytes.\n",
       "    To move from row-to-row, one needs to jump 8 bytes at a time\n",
       "    (``2 * 4``).\n",
       "ctypes : ctypes object\n",
       "    Class containing properties of the array needed for interaction\n",
       "    with ctypes.\n",
       "base : ndarray\n",
       "    If the array is a view into another array, that array is its `base`\n",
       "    (unless that array is also a view).  The `base` array is where the\n",
       "    array data is actually stored.\n",
       "\n",
       "See Also\n",
       "--------\n",
       "array : Construct an array.\n",
       "zeros : Create an array, each element of which is zero.\n",
       "empty : Create an array, but leave its allocated memory unchanged (i.e.,\n",
       "        it contains \"garbage\").\n",
       "dtype : Create a data-type.\n",
       "\n",
       "Notes\n",
       "-----\n",
       "There are two modes of creating an array using ``__new__``:\n",
       "\n",
       "1. If `buffer` is None, then only `shape`, `dtype`, and `order`\n",
       "   are used.\n",
       "2. If `buffer` is an object exposing the buffer interface, then\n",
       "   all keywords are interpreted.\n",
       "\n",
       "No ``__init__`` method is needed because the array is fully initialized\n",
       "after the ``__new__`` method.\n",
       "\n",
       "Examples\n",
       "--------\n",
       "These examples illustrate the low-level `ndarray` constructor.  Refer\n",
       "to the `See Also` section above for easier ways of constructing an\n",
       "ndarray.\n",
       "\n",
       "First mode, `buffer` is None:\n",
       "\n",
       ">>> np.ndarray(shape=(2,2), dtype=float, order='F')\n",
       "array([[0.0e+000, 0.0e+000], # random\n",
       "       [     nan, 2.5e-323]])\n",
       "\n",
       "Second mode:\n",
       "\n",
       ">>> np.ndarray((2,), buffer=np.array([1,2,3]),\n",
       "...            offset=np.int_().itemsize,\n",
       "...            dtype=int) # offset = 1*itemsize, i.e. skip first element\n",
       "array([2, 3])\n",
       "\u001b[0;31mFile:\u001b[0m           ~/opt/anaconda3/lib/python3.8/site-packages/numpy/__init__.py\n",
       "\u001b[0;31mType:\u001b[0m           type\n",
       "\u001b[0;31mSubclasses:\u001b[0m     chararray, recarray, memmap, matrix, MaskedArray\n"
      ]
     },
     "metadata": {},
     "output_type": "display_data"
    }
   ],
   "source": [
    "?np.ndarray \n",
    "#можно еще ??nd.array, а вот ???np.ndarray уже нельзя"
   ]
  },
  {
   "cell_type": "markdown",
   "metadata": {},
   "source": [
    "### Поиск в библиотеке"
   ]
  },
  {
   "cell_type": "code",
   "execution_count": 3,
   "metadata": {
    "scrolled": true
   },
   "outputs": [
    {
     "name": "stdout",
     "output_type": "stream",
     "text": [
      "Search results for 'create array'\n",
      "---------------------------------\n",
      "numpy.array\n",
      "    Create an array.\n",
      "numpy.memmap\n",
      "    Create a memory-map to an array stored in a *binary* file on disk.\n",
      "numpy.diagflat\n",
      "    Create a two-dimensional array with the flattened input as a diagonal.\n",
      "numpy.fromiter\n",
      "    Create a new 1-dimensional array from an iterable object.\n",
      "numpy.partition\n",
      "    Return a partitioned copy of an array.\n",
      "numpy.ctypeslib.as_array\n",
      "    Create a numpy array from a ctypes array or POINTER.\n",
      "numpy.ma.diagflat\n",
      "    Create a two-dimensional array with the flattened input as a diagonal.\n",
      "numpy.ma.make_mask\n",
      "    Create a boolean mask from an array.\n",
      "numpy.lib.Arrayterator\n",
      "    Buffered iterator for big arrays.\n",
      "numpy.ctypeslib.as_ctypes\n",
      "    Create and return a ctypes object from a numpy array.  Actually\n",
      "numpy.ma.mrecords.fromarrays\n",
      "    Creates a mrecarray from a (flat) list of masked arrays.\n",
      "numpy.ma.mvoid.__new__\n",
      "    Create a new masked array from scratch.\n",
      "numpy.ma.MaskedArray.__new__\n",
      "    Create a new masked array from scratch.\n",
      "numpy.ma.mrecords.fromtextfile\n",
      "    Creates a mrecarray from data stored in the file `filename`.\n",
      "numpy.asarray\n",
      "    Convert the input to an array.\n",
      "numpy.ndarray\n",
      "    ndarray(shape, dtype=float, buffer=None, offset=0,\n",
      "numpy.recarray\n",
      "    Construct an ndarray that allows field access using attributes.\n",
      "numpy.chararray\n",
      "    chararray(shape, itemsize=1, unicode=False, buffer=None, offset=0,\n",
      "numpy.exp\n",
      "    Calculate the exponential of all elements in the input array.\n",
      "numpy.pad\n",
      "    Pad an array.\n",
      "numpy.asanyarray\n",
      "    Convert the input to an ndarray, but pass ndarray subclasses through.\n",
      "numpy.cbrt\n",
      "    Return the cube-root of an array, element-wise.\n",
      "numpy.copy\n",
      "    Return an array copy of the given object.\n",
      "numpy.diag\n",
      "    Extract a diagonal or construct a diagonal array.\n",
      "numpy.exp2\n",
      "    Calculate `2**p` for all `p` in the input array.\n",
      "numpy.fmax\n",
      "    Element-wise maximum of array elements.\n",
      "numpy.fmin\n",
      "    Element-wise minimum of array elements.\n",
      "numpy.load\n",
      "    Load arrays or pickled objects from ``.npy``, ``.npz`` or pickled files.\n",
      "numpy.modf\n",
      "    Return the fractional and integral parts of an array, element-wise.\n",
      "numpy.rint\n",
      "    Round elements of the array to the nearest integer.\n",
      "numpy.sort\n",
      "    Return a sorted copy of an array.\n",
      "numpy.sqrt\n",
      "    Return the non-negative square-root of an array, element-wise.\n",
      "numpy.array_equiv\n",
      "    Returns True if input arrays are shape consistent and all elements equal.\n",
      "numpy.dtype\n",
      "    Create a data type object.\n",
      "numpy.expm1\n",
      "    Calculate ``exp(x) - 1`` for all elements in the array.\n",
      "numpy.isnan\n",
      "    Test element-wise for NaN and return result as a boolean array.\n",
      "numpy.isnat\n",
      "    Test element-wise for NaT (not a time) and return result as a boolean array.\n",
      "numpy.log10\n",
      "    Return the base 10 logarithm of the input array, element-wise.\n",
      "numpy.log1p\n",
      "    Return the natural logarithm of one plus the input array, element-wise.\n",
      "numpy.power\n",
      "    First array elements raised to powers from second array, element-wise.\n",
      "numpy.ufunc\n",
      "    Functions that operate element by element on whole arrays.\n",
      "numpy.choose\n",
      "    Construct an array from an index array and a set of arrays to choose from.\n",
      "numpy.nditer\n",
      "    Efficient multi-dimensional iterator object to iterate over arrays.\n",
      "numpy.maximum\n",
      "    Element-wise maximum of array elements.\n",
      "numpy.minimum\n",
      "    Element-wise minimum of array elements.\n",
      "numpy.swapaxes\n",
      "    Interchange two axes of an array.\n",
      "numpy.full_like\n",
      "    Return a full array with the same shape and type as a given array.\n",
      "numpy.ones_like\n",
      "    Return an array of ones with the same shape and type as a given array.\n",
      "numpy.bitwise_or\n",
      "    Compute the bit-wise OR of two arrays element-wise.\n",
      "numpy.empty_like\n",
      "    Return a new array with the same shape and type as a given array.\n",
      "numpy.zeros_like\n",
      "    Return an array of zeros with the same shape and type as a given array.\n",
      "numpy.asarray_chkfinite\n",
      "    Convert the input to an array, checking for NaNs or Infs.\n",
      "numpy.bitwise_and\n",
      "    Compute the bit-wise AND of two arrays element-wise.\n",
      "numpy.bitwise_xor\n",
      "    Compute the bit-wise XOR of two arrays element-wise.\n",
      "numpy.float_power\n",
      "    First array elements raised to powers from second array, element-wise.\n",
      "numpy.ma.exp\n",
      "    Calculate the exponential of all elements in the input array.\n",
      "numpy.diag_indices\n",
      "    Return the indices to access the main diagonal of an array.\n",
      "numpy.nested_iters\n",
      "    Create nditers for use in nested loops\n",
      "numpy.ma.sqrt\n",
      "    Return the non-negative square-root of an array, element-wise.\n",
      "numpy.ma.log10\n",
      "    Return the base 10 logarithm of the input array, element-wise.\n",
      "numpy.chararray.tolist\n",
      "    a.tolist()\n",
      "numpy.put_along_axis\n",
      "    Put values into the destination array by matching 1d index and data slices.\n",
      "numpy.ma.choose\n",
      "    Use an index array to construct a new array from a set of choices.\n",
      "numpy.ma.maximum\n",
      "    Element-wise maximum of array elements.\n",
      "numpy.ma.minimum\n",
      "    Element-wise minimum of array elements.\n",
      "numpy.ma.mrecords.MaskedRecords.__new__\n",
      "    Create a new masked array from scratch.\n",
      "numpy.savez_compressed\n",
      "    Save several arrays into a single file in compressed ``.npz`` format.\n",
      "numpy.matlib.rand\n",
      "    Return a matrix of random values with given shape.\n",
      "numpy.datetime_as_string\n",
      "    Convert an array of datetimes into an array of strings.\n",
      "numpy.ma.bitwise_or\n",
      "    Compute the bit-wise OR of two arrays element-wise.\n",
      "numpy.ma.bitwise_and\n",
      "    Compute the bit-wise AND of two arrays element-wise.\n",
      "numpy.ma.bitwise_xor\n",
      "    Compute the bit-wise XOR of two arrays element-wise.\n",
      "numpy.ma.make_mask_none\n",
      "    Return a boolean mask of the given shape, filled with False.\n",
      "numpy.ma.tests.test_subclassing.MSubArray.__new__\n",
      "    Create a new masked array from scratch.\n",
      "numpy.core._multiarray_umath.clip\n",
      "    Clip (limit) the values in an array.\n",
      "numpy.core.tests.test_overrides._new_duck_type_and_implements\n",
      "    Create a duck array type and implements functions.\n",
      "numpy.ma.tests.test_subclassing.SubMaskedArray.__new__\n",
      "    Create a new masked array from scratch.\n",
      "numpy.ma.mrecords.fromrecords\n",
      "    Creates a MaskedRecords from a list of records.\n",
      "numpy.core._multiarray_umath.empty_like\n",
      "    Return a new array with the same shape and type as a given array.\n",
      "numpy.f2py.tests.test_array_from_pyobj.Array.has_shared_memory\n",
      "    Check that created array shares data with input array.\n",
      "numpy.core._dtype._construction_repr\n",
      "    Creates a string repr of the dtype, excluding the 'dtype()' part\n",
      "numpy.abs\n",
      "    Calculate the absolute value element-wise.\n",
      "numpy.add\n",
      "    Add arguments element-wise.\n",
      "numpy.cos\n",
      "    Cosine element-wise.\n",
      "numpy.log\n",
      "    Natural logarithm, element-wise.\n",
      "numpy.mod\n",
      "    Return element-wise remainder of division.\n",
      "numpy.lib.recfunctions.require_fields\n",
      "    Casts a structured array to a new dtype using assignment by field-name.\n",
      "numpy.sin\n",
      "    Trigonometric sine, element-wise.\n",
      "numpy.tan\n",
      "    Compute tangent element-wise.\n",
      "numpy.ceil\n",
      "    Return the ceiling of the input, element-wise.\n",
      "numpy.conj\n",
      "    Return the complex conjugate, element-wise.\n",
      "numpy.cosh\n",
      "    Hyperbolic cosine, element-wise.\n",
      "numpy.fabs\n",
      "    Compute the absolute values element-wise.\n",
      "numpy.fmod\n",
      "    Return the element-wise remainder of division.\n",
      "numpy.less\n",
      "    Return the truth value of (x1 < x2) element-wise.\n",
      "numpy.log2\n",
      "    Base-2 logarithm of `x`.\n",
      "numpy.sign\n",
      "    Returns an element-wise indication of the sign of a number.\n",
      "numpy.sinh\n",
      "    Hyperbolic sine, element-wise.\n",
      "numpy.tanh\n",
      "    Compute hyperbolic tangent element-wise.\n",
      "numpy.equal\n",
      "    Return (x1 == x2) element-wise.\n",
      "numpy.core._multiarray_umath.datetime_as_string\n",
      "    Convert an array of datetimes into an array of strings.\n",
      "numpy.floor\n",
      "    Return the floor of the input, element-wise.\n",
      "numpy.frexp\n",
      "    Decompose the elements of x into mantissa and twos exponent.\n",
      "numpy.hypot\n",
      "    Given the \"legs\" of a right triangle, return its hypotenuse.\n",
      "numpy.isinf\n",
      "    Test element-wise for positive or negative infinity.\n",
      "numpy.ldexp\n",
      "    Returns x1 * 2**x2, element-wise.\n",
      "numpy.trunc\n",
      "    Return the truncated value of the input, element-wise.\n",
      "numpy.arccos\n",
      "    Trigonometric inverse cosine, element-wise.\n",
      "numpy.arcsin\n",
      "    Inverse sine, element-wise.\n",
      "numpy.arctan\n",
      "    Trigonometric inverse tangent, element-wise.\n",
      "numpy.around\n",
      "    Evenly round to the given number of decimals.\n",
      "numpy.divide\n",
      "    Returns a true division of the inputs, element-wise.\n",
      "numpy.divmod\n",
      "    Return element-wise quotient and remainder simultaneously.\n",
      "numpy.source\n",
      "    Print or write to a file the source code for a NumPy object.\n",
      "numpy.square\n",
      "    Return the element-wise square of the input.\n",
      "numpy.arccosh\n",
      "    Inverse hyperbolic cosine, element-wise.\n",
      "numpy.arcsinh\n",
      "    Inverse hyperbolic sine element-wise.\n",
      "numpy.arctan2\n",
      "    Element-wise arc tangent of ``x1/x2`` choosing the quadrant correctly.\n",
      "numpy.arctanh\n",
      "    Inverse hyperbolic tangent element-wise.\n",
      "numpy.deg2rad\n",
      "    Convert angles from degrees to radians.\n",
      "numpy.degrees\n",
      "    Convert angles from radians to degrees.\n",
      "numpy.greater\n",
      "    Return the truth value of (x1 > x2) element-wise.\n",
      "numpy.rad2deg\n",
      "    Convert angles from radians to degrees.\n",
      "numpy.radians\n",
      "    Convert angles from degrees to radians.\n",
      "numpy.signbit\n",
      "    Returns element-wise True where signbit is set (less than zero).\n",
      "numpy.spacing\n",
      "    Return the distance between x and the nearest adjacent number.\n",
      "numpy.copysign\n",
      "    Change the sign of x1 to that of x2, element-wise.\n",
      "numpy.diagonal\n",
      "    Return specified diagonals.\n",
      "numpy.isfinite\n",
      "    Test element-wise for finiteness (not infinity or not Not a Number).\n",
      "numpy.multiply\n",
      "    Multiply arguments element-wise.\n",
      "numpy.negative\n",
      "    Numerical negative, element-wise.\n",
      "numpy.subtract\n",
      "    Subtract arguments, element-wise.\n",
      "numpy.heaviside\n",
      "    Compute the Heaviside step function.\n",
      "numpy.logaddexp\n",
      "    Logarithm of the sum of exponentiations of the inputs.\n",
      "numpy.nextafter\n",
      "    Return the next floating-point value after x1 towards x2, element-wise.\n",
      "numpy.not_equal\n",
      "    Return (x1 != x2) element-wise.\n",
      "numpy.left_shift\n",
      "    Shift the bits of an integer to the left.\n",
      "numpy.less_equal\n",
      "    Return the truth value of (x1 =< x2) element-wise.\n",
      "numpy.logaddexp2\n",
      "    Logarithm of the sum of exponentiations of the inputs in base-2.\n",
      "numpy.logical_or\n",
      "    Compute the truth value of x1 OR x2 element-wise.\n",
      "numpy.nan_to_num\n",
      "    Replace NaN with zero and infinity with large finite numbers (default\n",
      "numpy.reciprocal\n",
      "    Return the reciprocal of the argument, element-wise.\n",
      "numpy.bitwise_not\n",
      "    Compute bit-wise inversion, or bit-wise NOT, element-wise.\n",
      "numpy.einsum_path\n",
      "    Evaluates the lowest cost contraction order for an einsum expression by\n",
      "numpy.histogram2d\n",
      "    Compute the bi-dimensional histogram of two data samples.\n",
      "numpy.logical_and\n",
      "    Compute the truth value of x1 AND x2 element-wise.\n",
      "numpy.logical_not\n",
      "    Compute the truth value of NOT x element-wise.\n",
      "numpy.logical_xor\n",
      "    Compute the truth value of x1 XOR x2, element-wise.\n",
      "numpy.right_shift\n",
      "    Shift the bits of an integer to the right.\n",
      "numpy.ma.abs\n",
      "    Calculate the absolute value element-wise.\n",
      "numpy.ma.add\n",
      "    Add arguments element-wise.\n",
      "numpy.ma.cos\n",
      "    Cosine element-wise.\n",
      "numpy.ma.log\n",
      "    Natural logarithm, element-wise.\n",
      "numpy.ma.mod\n",
      "    Return element-wise remainder of division.\n",
      "numpy.ma.sin\n",
      "    Trigonometric sine, element-wise.\n",
      "numpy.ma.tan\n",
      "    Compute tangent element-wise.\n",
      "numpy.floor_divide\n",
      "    Return the largest integer smaller or equal to the division of the inputs.\n",
      "numpy.ma.ceil\n",
      "    Return the ceiling of the input, element-wise.\n",
      "numpy.ma.cosh\n",
      "    Hyperbolic cosine, element-wise.\n",
      "numpy.fft.ifft\n",
      "    Compute the one-dimensional inverse discrete Fourier Transform.\n",
      "numpy.ma.fabs\n",
      "    Compute the absolute values element-wise.\n",
      "numpy.ma.fmod\n",
      "    Return the element-wise remainder of division.\n",
      "numpy.ma.less\n",
      "    Return the truth value of (x1 < x2) element-wise.\n",
      "numpy.ma.log2\n",
      "    Base-2 logarithm of `x`.\n",
      "numpy.ma.sinh\n",
      "    Hyperbolic sine, element-wise.\n",
      "numpy.ma.tanh\n",
      "    Compute hyperbolic tangent element-wise.\n",
      "numpy.greater_equal\n",
      "    Return the truth value of (x1 >= x2) element-wise.\n",
      "numpy.fft.ifftn\n",
      "    Compute the N-dimensional inverse discrete Fourier Transform.\n",
      "numpy.ma.equal\n",
      "    Return (x1 == x2) element-wise.\n",
      "numpy.ma.floor\n",
      "    Return the floor of the input, element-wise.\n",
      "numpy.ma.hypot\n",
      "    Given the \"legs\" of a right triangle, return its hypotenuse.\n",
      "numpy.busdaycalendar\n",
      "    A business day calendar object that efficiently stores information\n",
      "numpy.ma.arccos\n",
      "    Trigonometric inverse cosine, element-wise.\n",
      "numpy.ma.arcsin\n",
      "    Inverse sine, element-wise.\n",
      "numpy.ma.arctan\n",
      "    Trigonometric inverse tangent, element-wise.\n",
      "numpy.ma.divide\n",
      "    Returns a true division of the inputs, element-wise.\n",
      "numpy.lib.recfunctions.unstructured_to_structured\n",
      "    Converts and n-D unstructured array into an (n-1)-D structured array.\n",
      "numpy.ma.arccosh\n",
      "    Inverse hyperbolic cosine, element-wise.\n",
      "numpy.ma.arcsinh\n",
      "    Inverse hyperbolic sine element-wise.\n",
      "numpy.ma.arctan2\n",
      "    Element-wise arc tangent of ``x1/x2`` choosing the quadrant correctly.\n",
      "numpy.ma.arctanh\n",
      "    Inverse hyperbolic tangent element-wise.\n",
      "numpy.ma.greater\n",
      "    Return the truth value of (x1 > x2) element-wise.\n",
      "numpy.ma.multiply\n",
      "    Multiply arguments element-wise.\n",
      "numpy.ma.negative\n",
      "    Numerical negative, element-wise.\n",
      "numpy.ma.subtract\n",
      "    Subtract arguments, element-wise.\n",
      "numpy.ma.tests.test_subclassing.SubArray\n",
      "    ndarray(shape, dtype=float, buffer=None, offset=0,\n",
      "numpy.ma.conjugate\n",
      "    Return the complex conjugate, element-wise.\n",
      "numpy.ma.not_equal\n",
      "    Return (x1 != x2) element-wise.\n",
      "numpy.ma.remainder\n",
      "    Return element-wise remainder of division.\n",
      "numpy.ma.empty_like\n",
      "    empty_like(prototype, dtype=None, order='K', subok=True, shape=None)\n",
      "numpy.ma.less_equal\n",
      "    Return the truth value of (x1 =< x2) element-wise.\n",
      "numpy.ma.logical_or\n",
      "    Compute the truth value of x1 OR x2 element-wise.\n",
      "numpy.ma.logical_and\n",
      "    Compute the truth value of x1 AND x2 element-wise.\n",
      "numpy.ma.logical_not\n",
      "    Compute the truth value of NOT x element-wise.\n",
      "numpy.ma.logical_xor\n",
      "    Compute the truth value of x1 XOR x2, element-wise.\n",
      "numpy.ma.true_divide\n",
      "    Returns a true division of the inputs, element-wise.\n",
      "numpy.ma.floor_divide\n",
      "    Return the largest integer smaller or equal to the division of the inputs.\n",
      "numpy.ma.greater_equal\n",
      "    Return the truth value of (x1 >= x2) element-wise.\n",
      "numpy.core.tests.test_function_base.PhysicalQuantity2\n",
      "    ndarray(shape, dtype=float, buffer=None, offset=0,\n",
      "numpy.lib.tests.test_stride_tricks.SimpleSubClass\n",
      "    ndarray(shape, dtype=float, buffer=None, offset=0,\n",
      "numpy.core.tests.test_numeric.TestKeepdims.sub_array\n",
      "    ndarray(shape, dtype=float, buffer=None, offset=0,\n",
      "numpy.ma.tests.test_subclassing.ComplicatedSubArray\n",
      "    ndarray(shape, dtype=float, buffer=None, offset=0,\n",
      "numpy.lib.tests.test_stride_tricks.VerySimpleSubClass\n",
      "    ndarray(shape, dtype=float, buffer=None, offset=0,\n",
      "numpy.core.tests.test_multiarray.TestArrayPriority.Foo\n",
      "    ndarray(shape, dtype=float, buffer=None, offset=0,\n",
      "numpy.core.tests.test_multiarray.TestArrayPriority.Bar\n",
      "    ndarray(shape, dtype=float, buffer=None, offset=0,\n",
      "numpy.testing._gen_alignment_data\n",
      "    generator producing data with different alignment and offsets\n",
      "numpy.random.RandomState.rand\n",
      "    Random values in a given shape."
     ]
    }
   ],
   "source": [
    "np.lookfor('create array') "
   ]
  },
  {
   "cell_type": "markdown",
   "metadata": {},
   "source": [
    "## Генерация Numpy arrays"
   ]
  },
  {
   "cell_type": "markdown",
   "metadata": {
    "colab_type": "text",
    "id": "sTLl1Mq68U7v"
   },
   "source": [
    "Numpy позволяет просто и быстро работать с векторами, матрицами и структурами более высоких порядков: тензорами. Давайте объявим несколько простых numpy объектов:"
   ]
  },
  {
   "cell_type": "code",
   "execution_count": null,
   "metadata": {},
   "outputs": [],
   "source": []
  },
  {
   "cell_type": "code",
   "execution_count": 4,
   "metadata": {
    "colab": {},
    "colab_type": "code",
    "id": "q3gcvASD85rs"
   },
   "outputs": [],
   "source": [
    "a = np.array([4, 1, 6])\n",
    "b = np.array([\n",
    "    [0, 1, 2],\n",
    "    [4, 5, 6]\n",
    "])\n",
    "c = np.array([\n",
    "    [\n",
    "        [3, 1, 0],\n",
    "        [2, 2, 0]\n",
    "    ],\n",
    "    [ \n",
    "        [5, 55, 5],\n",
    "        [5, 55, 5]\n",
    "    ]\n",
    "])"
   ]
  },
  {
   "cell_type": "markdown",
   "metadata": {
    "colab_type": "text",
    "id": "H5swjF049XcL"
   },
   "source": [
    "Теперь случай __a__, - вектор, __b__ - матрица, __c__ - тензор 3 размерности"
   ]
  },
  {
   "cell_type": "code",
   "execution_count": 5,
   "metadata": {
    "colab": {
     "base_uri": "https://localhost:8080/",
     "height": 34
    },
    "colab_type": "code",
    "id": "FAW_Il_v9qcy",
    "outputId": "547c39dd-d2ee-492f-8264-ebcede8c89f9"
   },
   "outputs": [
    {
     "data": {
      "text/plain": [
       "array([4, 1, 6])"
      ]
     },
     "execution_count": 5,
     "metadata": {},
     "output_type": "execute_result"
    }
   ],
   "source": [
    "a"
   ]
  },
  {
   "cell_type": "code",
   "execution_count": 6,
   "metadata": {
    "colab": {
     "base_uri": "https://localhost:8080/",
     "height": 68
    },
    "colab_type": "code",
    "id": "Hyy62n639r_1",
    "outputId": "dd9facbe-3b9b-4551-aecd-0a429d1228e1"
   },
   "outputs": [
    {
     "data": {
      "text/plain": [
       "array([[0, 1, 2],\n",
       "       [4, 5, 6]])"
      ]
     },
     "execution_count": 6,
     "metadata": {},
     "output_type": "execute_result"
    }
   ],
   "source": [
    "b"
   ]
  },
  {
   "cell_type": "code",
   "execution_count": 7,
   "metadata": {},
   "outputs": [
    {
     "data": {
      "text/plain": [
       "array([[[ 3,  1,  0],\n",
       "        [ 2,  2,  0]],\n",
       "\n",
       "       [[ 5, 55,  5],\n",
       "        [ 5, 55,  5]]])"
      ]
     },
     "execution_count": 7,
     "metadata": {},
     "output_type": "execute_result"
    }
   ],
   "source": [
    "c"
   ]
  },
  {
   "cell_type": "markdown",
   "metadata": {},
   "source": [
    "### Тензоры"
   ]
  },
  {
   "cell_type": "code",
   "execution_count": 8,
   "metadata": {},
   "outputs": [],
   "source": [
    "import numpy as np"
   ]
  },
  {
   "cell_type": "markdown",
   "metadata": {},
   "source": [
    "<img src = \"https://www.cc.gatech.edu/~san37/img/dl/tensor.png\" width=500>"
   ]
  },
  {
   "cell_type": "markdown",
   "metadata": {},
   "source": [
    "### Генерация массивов из коробки"
   ]
  },
  {
   "cell_type": "markdown",
   "metadata": {},
   "source": [
    "* [arange](https://docs.scipy.org/doc/numpy/reference/generated/numpy.arange.html) — аналог range из Python, которому можно передать нецелочисленный шаг"
   ]
  },
  {
   "cell_type": "code",
   "execution_count": 9,
   "metadata": {},
   "outputs": [
    {
     "data": {
      "text/plain": [
       "array([0. , 0.5, 1. , 1.5, 2. , 2.5, 3. , 3.5, 4. , 4.5])"
      ]
     },
     "execution_count": 9,
     "metadata": {},
     "output_type": "execute_result"
    }
   ],
   "source": [
    "np.arange(0, 5, 0.5)"
   ]
  },
  {
   "cell_type": "markdown",
   "metadata": {},
   "source": [
    "* [linspace](https://docs.scipy.org/doc/numpy/reference/generated/numpy.linspace.html) — способ равномерно разбить отрезок на n-1 интервал"
   ]
  },
  {
   "cell_type": "code",
   "execution_count": 11,
   "metadata": {},
   "outputs": [
    {
     "data": {
      "text/plain": [
       "array([0.        , 0.41666667, 0.83333333, 1.25      , 1.66666667,\n",
       "       2.08333333, 2.5       , 2.91666667, 3.33333333, 3.75      ,\n",
       "       4.16666667, 4.58333333, 5.        ])"
      ]
     },
     "execution_count": 11,
     "metadata": {},
     "output_type": "execute_result"
    }
   ],
   "source": [
    "b = np.linspace(0, 5, 13)\n",
    "b"
   ]
  },
  {
   "cell_type": "code",
   "execution_count": 12,
   "metadata": {},
   "outputs": [
    {
     "data": {
      "text/plain": [
       "(13,)"
      ]
     },
     "execution_count": 12,
     "metadata": {},
     "output_type": "execute_result"
    }
   ],
   "source": [
    "b.shape"
   ]
  },
  {
   "cell_type": "markdown",
   "metadata": {},
   "source": [
    "* [logspace](https://docs.scipy.org/doc/numpy/reference/generated/numpy.logspace.html) — способ разбить отрезок по логарифмической шкале"
   ]
  },
  {
   "cell_type": "code",
   "execution_count": 13,
   "metadata": {},
   "outputs": [
    {
     "data": {
      "text/plain": [
       "array([ 2.        ,  3.48220225,  6.06286627, 10.55606329, 18.37917368,\n",
       "       32.        ])"
      ]
     },
     "execution_count": 13,
     "metadata": {},
     "output_type": "execute_result"
    }
   ],
   "source": [
    "a = np.logspace(start=1, stop=5, num=6, base=2)\n",
    "a"
   ]
  },
  {
   "cell_type": "code",
   "execution_count": 15,
   "metadata": {},
   "outputs": [
    {
     "data": {
      "text/plain": [
       "array([ 2.        ,  3.48220225,  6.06286627, 10.55606329, 18.37917368,\n",
       "       32.        ])"
      ]
     },
     "execution_count": 15,
     "metadata": {},
     "output_type": "execute_result"
    }
   ],
   "source": [
    "2 ** np.linspace(start=1, stop=5, num=6)\n",
    "#делаем linspace, а потом возводим base в степень каждого элемента linspace"
   ]
  },
  {
   "cell_type": "markdown",
   "metadata": {},
   "source": [
    "* [zeros](https://docs.scipy.org/doc/numpy/reference/generated/numpy.zeros.html) — создаёт массив заполненный нулями заданной размерности"
   ]
  },
  {
   "cell_type": "code",
   "execution_count": 16,
   "metadata": {},
   "outputs": [
    {
     "data": {
      "text/plain": [
       "array([[[0., 0., 0., 0., 0.],\n",
       "        [0., 0., 0., 0., 0.]],\n",
       "\n",
       "       [[0., 0., 0., 0., 0.],\n",
       "        [0., 0., 0., 0., 0.]]])"
      ]
     },
     "execution_count": 16,
     "metadata": {},
     "output_type": "execute_result"
    }
   ],
   "source": [
    "np.zeros((2, 2, 5))"
   ]
  },
  {
   "cell_type": "markdown",
   "metadata": {},
   "source": [
    "* [ones](https://docs.scipy.org/doc/numpy/reference/generated/numpy.ones.html) — создаёт массив заполненный единицами заданной размерности"
   ]
  },
  {
   "cell_type": "code",
   "execution_count": 17,
   "metadata": {},
   "outputs": [
    {
     "data": {
      "text/plain": [
       "array([[[1., 1., 1., 1., 1., 1., 1.],\n",
       "        [1., 1., 1., 1., 1., 1., 1.]],\n",
       "\n",
       "       [[1., 1., 1., 1., 1., 1., 1.],\n",
       "        [1., 1., 1., 1., 1., 1., 1.]]])"
      ]
     },
     "execution_count": 17,
     "metadata": {},
     "output_type": "execute_result"
    }
   ],
   "source": [
    "np.ones((2, 2, 7))"
   ]
  },
  {
   "cell_type": "markdown",
   "metadata": {},
   "source": [
    "* [eye](https://docs.scipy.org/doc/numpy/reference/generated/numpy.eye.html) - создаёт единичную матрицу заданного размера"
   ]
  },
  {
   "cell_type": "code",
   "execution_count": 18,
   "metadata": {},
   "outputs": [
    {
     "data": {
      "text/plain": [
       "array([[1., 0., 0., 0., 0.],\n",
       "       [0., 1., 0., 0., 0.],\n",
       "       [0., 0., 1., 0., 0.],\n",
       "       [0., 0., 0., 1., 0.],\n",
       "       [0., 0., 0., 0., 1.]])"
      ]
     },
     "execution_count": 18,
     "metadata": {},
     "output_type": "execute_result"
    }
   ],
   "source": [
    "np.eye(5)"
   ]
  },
  {
   "cell_type": "markdown",
   "metadata": {},
   "source": [
    "Если не знаем какую-то функцию, можно сделать поиск прямо внутри numpy"
   ]
  },
  {
   "cell_type": "markdown",
   "metadata": {},
   "source": [
    "## Преобразования размерностей над матрицами"
   ]
  },
  {
   "cell_type": "markdown",
   "metadata": {},
   "source": [
    "Pазмеры массива хранятся в поле **shape**, а количество размерностей - в **ndim**"
   ]
  },
  {
   "cell_type": "code",
   "execution_count": 19,
   "metadata": {
    "scrolled": true
   },
   "outputs": [
    {
     "name": "stdout",
     "output_type": "stream",
     "text": [
      "[[[1. 1. 1.]\n",
      "  [1. 1. 1.]\n",
      "  [1. 1. 1.]\n",
      "  [1. 1. 1.]]\n",
      "\n",
      " [[1. 1. 1.]\n",
      "  [1. 1. 1.]\n",
      "  [1. 1. 1.]\n",
      "  [1. 1. 1.]]]\n"
     ]
    },
    {
     "data": {
      "text/plain": [
       "((2, 4, 3), 3)"
      ]
     },
     "execution_count": 19,
     "metadata": {},
     "output_type": "execute_result"
    }
   ],
   "source": [
    "array = np.ones([2, 4, 3])\n",
    "print(array)\n",
    "array.shape, array.ndim"
   ]
  },
  {
   "cell_type": "markdown",
   "metadata": {},
   "source": [
    "Метод [reshape](https://docs.scipy.org/doc/numpy/reference/generated/numpy.reshape.html) позволяет преобразовать размеры массива без изменения данных"
   ]
  },
  {
   "cell_type": "code",
   "execution_count": 20,
   "metadata": {},
   "outputs": [
    {
     "name": "stdout",
     "output_type": "stream",
     "text": [
      "[0.  0.5 1.  1.5 2.  2.5 3.  3.5 4.  4.5 5.  5.5]\n"
     ]
    },
    {
     "data": {
      "text/plain": [
       "array([[[0. , 0.5, 1. ],\n",
       "        [1.5, 2. , 2.5]],\n",
       "\n",
       "       [[3. , 3.5, 4. ],\n",
       "        [4.5, 5. , 5.5]]])"
      ]
     },
     "execution_count": 20,
     "metadata": {},
     "output_type": "execute_result"
    }
   ],
   "source": [
    "array = np.arange(0, 6, 0.5)\n",
    "print(array)\n",
    "array = array.reshape((2, 2, 3))\n",
    "array"
   ]
  },
  {
   "cell_type": "markdown",
   "metadata": {},
   "source": [
    "Для того, что бы развернуть многомерный массив в вектор, можно воспользоваться функцией [ravel](https://docs.scipy.org/doc/numpy-1.15.0/reference/generated/numpy.ravel.html)"
   ]
  },
  {
   "cell_type": "code",
   "execution_count": 21,
   "metadata": {},
   "outputs": [
    {
     "data": {
      "text/plain": [
       "array([0. , 0.5, 1. , 1.5, 2. , 2.5, 3. , 3.5, 4. , 4.5, 5. , 5.5])"
      ]
     },
     "execution_count": 21,
     "metadata": {},
     "output_type": "execute_result"
    }
   ],
   "source": [
    "array.ravel()"
   ]
  },
  {
   "cell_type": "markdown",
   "metadata": {},
   "source": [
    "### Транспонирование матрицы"
   ]
  },
  {
   "cell_type": "code",
   "execution_count": 22,
   "metadata": {},
   "outputs": [
    {
     "name": "stdout",
     "output_type": "stream",
     "text": [
      "[[0 1 2 3 4]\n",
      " [5 6 7 8 9]]\n"
     ]
    },
    {
     "data": {
      "text/plain": [
       "array([[0, 5],\n",
       "       [1, 6],\n",
       "       [2, 7],\n",
       "       [3, 8],\n",
       "       [4, 9]])"
      ]
     },
     "execution_count": 22,
     "metadata": {},
     "output_type": "execute_result"
    }
   ],
   "source": [
    "A = np.arange(10).reshape(2, 5)\n",
    "print(A)\n",
    "A.T"
   ]
  },
  {
   "cell_type": "markdown",
   "metadata": {},
   "source": [
    "Заметим, что сама матрица А не изменилась. A.T - новый объект, который возвращает функция транспонирования."
   ]
  },
  {
   "cell_type": "code",
   "execution_count": 23,
   "metadata": {},
   "outputs": [
    {
     "data": {
      "text/plain": [
       "array([[0, 1, 2, 3, 4],\n",
       "       [5, 6, 7, 8, 9]])"
      ]
     },
     "execution_count": 23,
     "metadata": {},
     "output_type": "execute_result"
    }
   ],
   "source": [
    "A"
   ]
  },
  {
   "cell_type": "markdown",
   "metadata": {},
   "source": [
    "Однако транспонировать вектор мы не умеем"
   ]
  },
  {
   "cell_type": "code",
   "execution_count": 24,
   "metadata": {},
   "outputs": [
    {
     "data": {
      "text/plain": [
       "array([1, 2, 3, 4])"
      ]
     },
     "execution_count": 24,
     "metadata": {},
     "output_type": "execute_result"
    }
   ],
   "source": [
    "a = np.array([1, 2, 3, 4])\n",
    "a.T"
   ]
  },
  {
   "cell_type": "markdown",
   "metadata": {},
   "source": [
    "### Добавление размерностей"
   ]
  },
  {
   "cell_type": "markdown",
   "metadata": {},
   "source": [
    "Чтобы транспонировать вектор нам необходимо превратить его в матрицу (n,1). Это можно сделать двумя способами:\n",
    "* [np.expand_dims](https://docs.scipy.org/doc/numpy/reference/generated/numpy.expand_dims.html)\n",
    "* [np.newaxis](https://stackoverflow.com/questions/29241056/how-does-numpy-newaxis-work-and-when-to-use-it)"
   ]
  },
  {
   "cell_type": "code",
   "execution_count": 25,
   "metadata": {
    "colab": {},
    "colab_type": "code",
    "id": "HzHxhNaNARsz"
   },
   "outputs": [],
   "source": [
    "a = np.array([1, 2, 3, 4])\n",
    "a1 = np.expand_dims(a, 1) #добавить размерность по след. координате\n",
    "a2 = a[:, np.newaxis] # : - все элементы по 1 коорд.(см. индексацию ниже), np.newaxis - новая координата"
   ]
  },
  {
   "cell_type": "code",
   "execution_count": 26,
   "metadata": {
    "colab": {
     "base_uri": "https://localhost:8080/",
     "height": 34
    },
    "colab_type": "code",
    "id": "jLqIALnaAaLa",
    "outputId": "3aececa0-0418-46ab-cb75-7976cde46baa"
   },
   "outputs": [
    {
     "data": {
      "text/plain": [
       "array([[1],\n",
       "       [2],\n",
       "       [3],\n",
       "       [4]])"
      ]
     },
     "execution_count": 26,
     "metadata": {},
     "output_type": "execute_result"
    }
   ],
   "source": [
    "a1"
   ]
  },
  {
   "cell_type": "code",
   "execution_count": 27,
   "metadata": {},
   "outputs": [
    {
     "data": {
      "text/plain": [
       "array([[1],\n",
       "       [2],\n",
       "       [3],\n",
       "       [4]])"
      ]
     },
     "execution_count": 27,
     "metadata": {},
     "output_type": "execute_result"
    }
   ],
   "source": [
    "a2"
   ]
  },
  {
   "cell_type": "code",
   "execution_count": 28,
   "metadata": {},
   "outputs": [
    {
     "data": {
      "text/plain": [
       "((4,), (4, 1), (4, 1))"
      ]
     },
     "execution_count": 28,
     "metadata": {},
     "output_type": "execute_result"
    }
   ],
   "source": [
    "a.shape, a1.shape, a2.shape "
   ]
  },
  {
   "cell_type": "markdown",
   "metadata": {
    "colab_type": "text",
    "id": "uQKofXsaA69n"
   },
   "source": [
    "Заметьте, получается, что изначальный numpy.ndarray - столбец, а вовсе не строка!"
   ]
  },
  {
   "cell_type": "markdown",
   "metadata": {},
   "source": [
    "## Операции над матрицами"
   ]
  },
  {
   "cell_type": "code",
   "execution_count": 29,
   "metadata": {},
   "outputs": [
    {
     "name": "stdout",
     "output_type": "stream",
     "text": [
      "[[0 1 2]\n",
      " [3 4 5]\n",
      " [6 7 8]]\n",
      "[[ 2  3  4]\n",
      " [ 5  6  7]\n",
      " [ 8  9 10]]\n"
     ]
    }
   ],
   "source": [
    "A = np.arange(9).reshape(3, 3)\n",
    "B = np.arange(2, 11).reshape(3, 3)\n",
    "print(A)\n",
    "print(B)"
   ]
  },
  {
   "cell_type": "markdown",
   "metadata": {},
   "source": [
    "Операции над матрицами одинаковых размерностей осуществляются поэлементно"
   ]
  },
  {
   "cell_type": "code",
   "execution_count": 30,
   "metadata": {},
   "outputs": [
    {
     "data": {
      "text/plain": [
       "array([[ 2,  4,  6],\n",
       "       [ 8, 10, 12],\n",
       "       [14, 16, 18]])"
      ]
     },
     "execution_count": 30,
     "metadata": {},
     "output_type": "execute_result"
    }
   ],
   "source": [
    "A + B"
   ]
  },
  {
   "cell_type": "code",
   "execution_count": 31,
   "metadata": {},
   "outputs": [
    {
     "data": {
      "text/plain": [
       "array([[0.        , 0.33333333, 0.5       ],\n",
       "       [0.6       , 0.66666667, 0.71428571],\n",
       "       [0.75      , 0.77777778, 0.8       ]])"
      ]
     },
     "execution_count": 31,
     "metadata": {},
     "output_type": "execute_result"
    }
   ],
   "source": [
    "A / B"
   ]
  },
  {
   "cell_type": "markdown",
   "metadata": {},
   "source": [
    "Отдельно обратим внимание на то, что умножение массивов также является **поэлементным**, а не матричным:"
   ]
  },
  {
   "cell_type": "code",
   "execution_count": 32,
   "metadata": {},
   "outputs": [
    {
     "data": {
      "text/plain": [
       "array([[ 0,  3,  8],\n",
       "       [15, 24, 35],\n",
       "       [48, 63, 80]])"
      ]
     },
     "execution_count": 32,
     "metadata": {},
     "output_type": "execute_result"
    }
   ],
   "source": [
    "A * B"
   ]
  },
  {
   "attachments": {},
   "cell_type": "markdown",
   "metadata": {},
   "source": [
    "Для выполнения матричного умножения необходимо использовать функцию dot или оператор @:"
   ]
  },
  {
   "cell_type": "code",
   "execution_count": 33,
   "metadata": {},
   "outputs": [
    {
     "data": {
      "text/plain": [
       "array([[ 21,  24,  27],\n",
       "       [ 66,  78,  90],\n",
       "       [111, 132, 153]])"
      ]
     },
     "execution_count": 33,
     "metadata": {},
     "output_type": "execute_result"
    }
   ],
   "source": [
    "A.dot(B)\n",
    "A @ B"
   ]
  },
  {
   "cell_type": "markdown",
   "metadata": {},
   "source": [
    "А что будет если произвести операцию между матрицей и скаляром?"
   ]
  },
  {
   "cell_type": "code",
   "execution_count": 34,
   "metadata": {},
   "outputs": [
    {
     "data": {
      "text/plain": [
       "array([[ 0,  4,  8],\n",
       "       [12, 16, 20],\n",
       "       [24, 28, 32]])"
      ]
     },
     "execution_count": 34,
     "metadata": {},
     "output_type": "execute_result"
    }
   ],
   "source": [
    "4 * A"
   ]
  },
  {
   "cell_type": "code",
   "execution_count": 35,
   "metadata": {},
   "outputs": [
    {
     "data": {
      "text/plain": [
       "array([[10, 11, 12],\n",
       "       [13, 14, 15],\n",
       "       [16, 17, 18]])"
      ]
     },
     "execution_count": 35,
     "metadata": {},
     "output_type": "execute_result"
    }
   ],
   "source": [
    "A + 10"
   ]
  },
  {
   "cell_type": "code",
   "execution_count": 36,
   "metadata": {},
   "outputs": [
    {
     "data": {
      "text/plain": [
       "array([[         0,          1,         16],\n",
       "       [       243,       4096,      78125],\n",
       "       [   1679616,   40353607, 1073741824]])"
      ]
     },
     "execution_count": 36,
     "metadata": {},
     "output_type": "execute_result"
    }
   ],
   "source": [
    "A ** B"
   ]
  },
  {
   "cell_type": "markdown",
   "metadata": {},
   "source": [
    "А если добавим к матрице вектор?"
   ]
  },
  {
   "cell_type": "code",
   "execution_count": 37,
   "metadata": {},
   "outputs": [
    {
     "data": {
      "text/plain": [
       "array([[0., 1., 2.],\n",
       "       [0., 1., 2.],\n",
       "       [0., 1., 2.],\n",
       "       [0., 1., 2.]])"
      ]
     },
     "execution_count": 37,
     "metadata": {},
     "output_type": "execute_result"
    }
   ],
   "source": [
    "np.zeros([4, 3]) + np.array([0, 1, 2])"
   ]
  },
  {
   "cell_type": "markdown",
   "metadata": {},
   "source": [
    "А если добавим к столбцу строку?"
   ]
  },
  {
   "cell_type": "code",
   "execution_count": 38,
   "metadata": {},
   "outputs": [
    {
     "data": {
      "text/plain": [
       "array([[ 0,  1,  2],\n",
       "       [10, 11, 12],\n",
       "       [20, 21, 22],\n",
       "       [30, 31, 32]])"
      ]
     },
     "execution_count": 38,
     "metadata": {},
     "output_type": "execute_result"
    }
   ],
   "source": [
    "np.array([[ 0], \n",
    "          [10], \n",
    "          [20], \n",
    "          [30]]) + np.array([0, 1, 2]) "
   ]
  },
  {
   "cell_type": "markdown",
   "metadata": {},
   "source": [
    "Почему так происходит?"
   ]
  },
  {
   "cell_type": "markdown",
   "metadata": {},
   "source": [
    "### [Broadcasting](https://docs.scipy.org/doc/numpy/user/basics.broadcasting.html)"
   ]
  },
  {
   "cell_type": "markdown",
   "metadata": {},
   "source": [
    "**Замечание:** Все арифметические операции над массивами одинаковой размерности производятся поэлементно"
   ]
  },
  {
   "cell_type": "markdown",
   "metadata": {},
   "source": [
    "Broadcasting снимает правило одной размерности и позволяет производить арифметические операции над массивами разных, но все-таки согласованных размерностей. \n",
    "\n",
    "Если количество размерностей не совпадает, то к массиву меньшей размерности добавляются фиктивные размерности \"слева\". \n",
    "\n",
    "Проще всего показать на картинке:\n",
    "\n",
    "![title](http://www.scipy-lectures.org/_images/numpy_broadcasting.png)"
   ]
  },
  {
   "cell_type": "markdown",
   "metadata": {},
   "source": [
    "Если размерности не согласуются, то операция невозможна.\n",
    "\n",
    "![Imgur](https://i.imgur.com/9LvGoeL.gif)"
   ]
  },
  {
   "cell_type": "code",
   "execution_count": 39,
   "metadata": {},
   "outputs": [
    {
     "ename": "ValueError",
     "evalue": "operands could not be broadcast together with shapes (4,3) (4,) ",
     "output_type": "error",
     "traceback": [
      "\u001b[0;31m---------------------------------------------------------------------------\u001b[0m",
      "\u001b[0;31mValueError\u001b[0m                                Traceback (most recent call last)",
      "\u001b[0;32m<ipython-input-39-fd96362b78f5>\u001b[0m in \u001b[0;36m<module>\u001b[0;34m\u001b[0m\n\u001b[0;32m----> 1\u001b[0;31m \u001b[0mnp\u001b[0m\u001b[0;34m.\u001b[0m\u001b[0mzeros\u001b[0m\u001b[0;34m(\u001b[0m\u001b[0;34m[\u001b[0m\u001b[0;36m4\u001b[0m\u001b[0;34m,\u001b[0m \u001b[0;36m3\u001b[0m\u001b[0;34m]\u001b[0m\u001b[0;34m)\u001b[0m \u001b[0;34m+\u001b[0m \u001b[0mnp\u001b[0m\u001b[0;34m.\u001b[0m\u001b[0marray\u001b[0m\u001b[0;34m(\u001b[0m\u001b[0;34m[\u001b[0m\u001b[0;36m0\u001b[0m\u001b[0;34m,\u001b[0m \u001b[0;36m1\u001b[0m\u001b[0;34m,\u001b[0m\u001b[0;36m2\u001b[0m\u001b[0;34m,\u001b[0m \u001b[0;36m3\u001b[0m\u001b[0;34m]\u001b[0m\u001b[0;34m)\u001b[0m\u001b[0;34m\u001b[0m\u001b[0;34m\u001b[0m\u001b[0m\n\u001b[0m",
      "\u001b[0;31mValueError\u001b[0m: operands could not be broadcast together with shapes (4,3) (4,) "
     ]
    }
   ],
   "source": [
    "np.zeros([4, 3]) + np.array([0, 1,2, 3])"
   ]
  },
  {
   "cell_type": "markdown",
   "metadata": {},
   "source": [
    "Очевидно, что broadcasting работает не только для сложения, но и для любой операции."
   ]
  },
  {
   "cell_type": "code",
   "execution_count": 40,
   "metadata": {},
   "outputs": [
    {
     "data": {
      "text/plain": [
       "array([[  1,   0,   0],\n",
       "       [  1,  10, 100],\n",
       "       [  1,  20, 400],\n",
       "       [  1,  30, 900]])"
      ]
     },
     "execution_count": 40,
     "metadata": {},
     "output_type": "execute_result"
    }
   ],
   "source": [
    "np.array([[ 0], \n",
    "          [10], \n",
    "          [20], \n",
    "          [30]]) ** np.array([0, 1, 2]) "
   ]
  },
  {
   "cell_type": "code",
   "execution_count": 41,
   "metadata": {},
   "outputs": [
    {
     "data": {
      "text/plain": [
       "array([[[ 0,  2,  4],\n",
       "        [ 3,  5,  7],\n",
       "        [ 6,  8, 10]],\n",
       "\n",
       "       [[ 9, 11, 13],\n",
       "        [12, 14, 16],\n",
       "        [15, 17, 19]],\n",
       "\n",
       "       [[18, 20, 22],\n",
       "        [21, 23, 25],\n",
       "        [24, 26, 28]]])"
      ]
     },
     "execution_count": 41,
     "metadata": {},
     "output_type": "execute_result"
    }
   ],
   "source": [
    "np.arange(27).reshape(3, 3, 3) + np.arange(3)"
   ]
  },
  {
   "cell_type": "markdown",
   "metadata": {},
   "source": [
    "## Конкатенация многомерных массивов\n",
    "\n",
    "Конкатенировать несколько массивом можно с помощью функций [**np.concatenate, np.hstack, np.vstack**](https://stackoverflow.com/questions/33356442/when-should-i-use-hstack-vstack-vs-append-vs-concatenate-vs-column-stack)"
   ]
  },
  {
   "cell_type": "code",
   "execution_count": 42,
   "metadata": {},
   "outputs": [],
   "source": [
    "A = np.arange(9).reshape(3, 3)\n",
    "B = np.arange(1, 10).reshape(3, 3)"
   ]
  },
  {
   "cell_type": "code",
   "execution_count": 43,
   "metadata": {},
   "outputs": [
    {
     "data": {
      "text/plain": [
       "array([[0, 1, 2, 1, 2, 3],\n",
       "       [3, 4, 5, 4, 5, 6],\n",
       "       [6, 7, 8, 7, 8, 9]])"
      ]
     },
     "execution_count": 43,
     "metadata": {},
     "output_type": "execute_result"
    }
   ],
   "source": [
    "np.hstack([A, B])"
   ]
  },
  {
   "cell_type": "code",
   "execution_count": 44,
   "metadata": {},
   "outputs": [
    {
     "data": {
      "text/plain": [
       "array([[0, 1, 2],\n",
       "       [3, 4, 5],\n",
       "       [6, 7, 8],\n",
       "       [1, 2, 3],\n",
       "       [4, 5, 6],\n",
       "       [7, 8, 9]])"
      ]
     },
     "execution_count": 44,
     "metadata": {},
     "output_type": "execute_result"
    }
   ],
   "source": [
    "np.vstack([A, B])"
   ]
  },
  {
   "cell_type": "markdown",
   "metadata": {
    "colab_type": "text",
    "id": "sYtDBwVuxva4"
   },
   "source": [
    "## Агрегирующие операции"
   ]
  },
  {
   "cell_type": "markdown",
   "metadata": {
    "colab_type": "text",
    "id": "U5vilU4ax2Gh"
   },
   "source": [
    "Numpy поддерживает множество агрегирующих операций, такие как sum(), prod(), max(), min(). Эти операции применяются на выбранные оси тензора и размерность тензора уменьшается. Давайте сгенерируем тензор размерности 3 и попробуем применить эти операции:"
   ]
  },
  {
   "cell_type": "code",
   "execution_count": 45,
   "metadata": {
    "colab": {},
    "colab_type": "code",
    "id": "oZx1u8DDx1gA"
   },
   "outputs": [
    {
     "data": {
      "text/plain": [
       "array([[[2, 1, 3, 1],\n",
       "        [3, 2, 2, 3],\n",
       "        [1, 0, 1, 0]],\n",
       "\n",
       "       [[0, 0, 1, 3],\n",
       "        [1, 3, 0, 0],\n",
       "        [0, 2, 2, 1]]])"
      ]
     },
     "execution_count": 45,
     "metadata": {},
     "output_type": "execute_result"
    }
   ],
   "source": [
    "tensor = np.random.choice(a=[0,1,2,3], size=(2,3,4)) #рандомайз\n",
    "tensor"
   ]
  },
  {
   "cell_type": "markdown",
   "metadata": {
    "colab_type": "text",
    "id": "kFTxaPp5yeE7"
   },
   "source": [
    "np.random дает возможность использовать различные функции генерации данных. np.random.choice генерирует тензор данного размера size, который состоит из элементов множества a."
   ]
  },
  {
   "cell_type": "markdown",
   "metadata": {
    "colab_type": "text",
    "id": "5a9smY81y-vD"
   },
   "source": [
    "Давайте просуммируем все значения тензора:"
   ]
  },
  {
   "cell_type": "code",
   "execution_count": 46,
   "metadata": {
    "colab": {
     "base_uri": "https://localhost:8080/",
     "height": 34
    },
    "colab_type": "code",
    "id": "4NMr1l8My-JT",
    "outputId": "c6a63725-53ab-4efc-964a-d1650ee6c6cf"
   },
   "outputs": [
    {
     "data": {
      "text/plain": [
       "32"
      ]
     },
     "execution_count": 46,
     "metadata": {},
     "output_type": "execute_result"
    }
   ],
   "source": [
    "tensor.sum()"
   ]
  },
  {
   "cell_type": "markdown",
   "metadata": {
    "colab_type": "text",
    "id": "hPEzv2wtzQHa"
   },
   "source": [
    "Давайте просуммируем все значения тензора по оси 0:"
   ]
  },
  {
   "cell_type": "code",
   "execution_count": 47,
   "metadata": {
    "colab": {
     "base_uri": "https://localhost:8080/",
     "height": 68
    },
    "colab_type": "code",
    "id": "QiV2BJ-fzM1R",
    "outputId": "6cb3697d-32a0-4e6f-f9f7-808807e22760"
   },
   "outputs": [
    {
     "data": {
      "text/plain": [
       "((4,), array([7, 8, 9, 8]))"
      ]
     },
     "execution_count": 47,
     "metadata": {},
     "output_type": "execute_result"
    }
   ],
   "source": [
    "tensor_sum_0 = tensor.sum(axis = (0,1))\n",
    "tensor_sum_0.shape, tensor_sum_0"
   ]
  },
  {
   "cell_type": "markdown",
   "metadata": {
    "colab_type": "text",
    "id": "qI8Il0gRzZn2"
   },
   "source": [
    "Как видите, размерность тензора уменьшилась. Давайте выберем другую агрегирующую операцию и другую ось:"
   ]
  },
  {
   "cell_type": "code",
   "execution_count": 48,
   "metadata": {
    "colab": {
     "base_uri": "https://localhost:8080/",
     "height": 51
    },
    "colab_type": "code",
    "id": "bymWFlk5zY8P",
    "outputId": "15132a3b-d5e1-4879-fd2c-1fd313540feb"
   },
   "outputs": [
    {
     "data": {
      "text/plain": [
       "((2, 3),\n",
       " array([[3, 3, 1],\n",
       "        [3, 3, 2]]))"
      ]
     },
     "execution_count": 48,
     "metadata": {},
     "output_type": "execute_result"
    }
   ],
   "source": [
    "tensor_max_2 = tensor.max(axis = 2)\n",
    "tensor_max_2.shape, tensor_max_2"
   ]
  },
  {
   "cell_type": "markdown",
   "metadata": {},
   "source": [
    "Универсальные функции (sin, cos, exp и т.д.) также применяются поэлементно:"
   ]
  },
  {
   "cell_type": "code",
   "execution_count": 49,
   "metadata": {},
   "outputs": [
    {
     "data": {
      "text/plain": [
       "array([[1.00000000e+00, 2.71828183e+00, 7.38905610e+00],\n",
       "       [2.00855369e+01, 5.45981500e+01, 1.48413159e+02],\n",
       "       [4.03428793e+02, 1.09663316e+03, 2.98095799e+03]])"
      ]
     },
     "execution_count": 49,
     "metadata": {},
     "output_type": "execute_result"
    }
   ],
   "source": [
    "A = np.arange(9).reshape(3, 3)\n",
    "np.exp(A)"
   ]
  },
  {
   "cell_type": "markdown",
   "metadata": {},
   "source": [
    "Некоторые операции над массивами (например, вычисления минимума, максимума, суммы элементов) выполняются над всеми элементами вне зависимости от формы массива, однако при указании оси выполняются вдоль нее (например, для нахождения максимума каждой строки или каждого столбца):"
   ]
  },
  {
   "cell_type": "code",
   "execution_count": 50,
   "metadata": {},
   "outputs": [
    {
     "data": {
      "text/plain": [
       "0"
      ]
     },
     "execution_count": 50,
     "metadata": {},
     "output_type": "execute_result"
    }
   ],
   "source": [
    "A.min()"
   ]
  },
  {
   "cell_type": "code",
   "execution_count": 51,
   "metadata": {},
   "outputs": [
    {
     "data": {
      "text/plain": [
       "array([6, 7, 8])"
      ]
     },
     "execution_count": 51,
     "metadata": {},
     "output_type": "execute_result"
    }
   ],
   "source": [
    "A.max(axis = 0)"
   ]
  },
  {
   "cell_type": "code",
   "execution_count": 52,
   "metadata": {},
   "outputs": [
    {
     "data": {
      "text/plain": [
       "array([ 3, 12, 21])"
      ]
     },
     "execution_count": 52,
     "metadata": {},
     "output_type": "execute_result"
    }
   ],
   "source": [
    "A.sum(axis = 1)"
   ]
  },
  {
   "cell_type": "markdown",
   "metadata": {},
   "source": [
    "Так же в NumPy реализованно много полезных операций для работы с массивами: [np.min](https://docs.scipy.org/doc/numpy/reference/generated/numpy.ndarray.min.html), [np.max](https://docs.scipy.org/doc/numpy/reference/generated/numpy.ndarray.max.html), [np.sum](https://docs.scipy.org/doc/numpy/reference/generated/numpy.sum.html), [np.mean](https://docs.scipy.org/doc/numpy/reference/generated/numpy.mean.html) и т.д.\n",
    "\n",
    "**Замечание:** В каждой из перечисленных функций есть параметр **axis**, который указывает по какому измерению производить данную операцию. По умолчанию операция производится по всем значениям массива"
   ]
  },
  {
   "cell_type": "markdown",
   "metadata": {},
   "source": [
    "## [Типы Данных](https://docs.scipy.org/doc/numpy-1.13.0/reference/arrays.dtypes.html)"
   ]
  },
  {
   "cell_type": "markdown",
   "metadata": {},
   "source": [
    "Мы много поигрались с простыми числами `int`, `float`. Но можно использовать комплексные числа и очень **длинные** числа"
   ]
  },
  {
   "cell_type": "code",
   "execution_count": 53,
   "metadata": {},
   "outputs": [
    {
     "data": {
      "text/plain": [
       "(dtype('complex128'), dtype('float128'))"
      ]
     },
     "execution_count": 53,
     "metadata": {},
     "output_type": "execute_result"
    }
   ],
   "source": [
    "a = np.array([2 + 3j, 4 + 5j])\n",
    "b = np.array([np.longdouble(1/10**(1000))])\n",
    "a.dtype, b.dtype"
   ]
  },
  {
   "cell_type": "markdown",
   "metadata": {},
   "source": [
    "Можно и строки хранить."
   ]
  },
  {
   "cell_type": "code",
   "execution_count": 54,
   "metadata": {},
   "outputs": [
    {
     "data": {
      "text/plain": [
       "(dtype('<U13'), numpy.str_, dtype('<U4'))"
      ]
     },
     "execution_count": 54,
     "metadata": {},
     "output_type": "execute_result"
    }
   ],
   "source": [
    "s = np.array(['abra', 'zxcv', 'щаоштпавтищав'])\n",
    "s.dtype, type(s[0]), s[0].dtype"
   ]
  },
  {
   "cell_type": "markdown",
   "metadata": {},
   "source": [
    "Читаем Unicode длины меньше 13 (максимальное слово)"
   ]
  },
  {
   "cell_type": "markdown",
   "metadata": {},
   "source": [
    "Да и вообще можно кастовать любой лист к массиву. Тип приводится к наследнику. Сложные объекты также хранятся по ссылке."
   ]
  },
  {
   "cell_type": "code",
   "execution_count": 55,
   "metadata": {},
   "outputs": [
    {
     "data": {
      "text/plain": [
       "array([2, 'asd', list([1, 2]), {'d': 'a'},\n",
       "       <__main__.A object at 0x7fd8affdd460>,\n",
       "       <function f at 0x7fd8aff9cee0>], dtype=object)"
      ]
     },
     "execution_count": 55,
     "metadata": {},
     "output_type": "execute_result"
    }
   ],
   "source": [
    "def f():\n",
    "    pass\n",
    "\n",
    "class A(object):\n",
    "    def __init__(self):\n",
    "        pass\n",
    "\n",
    "a = A()\n",
    "np.array([2, 'asd', [1,2], {'d':'a'}, a, f])"
   ]
  },
  {
   "cell_type": "markdown",
   "metadata": {},
   "source": [
    "Однако есть некоторые странности. Например при присутствии типа `str` в листе, где все остальные типы стандартные - все остальные элементы кастуются к стрингу"
   ]
  },
  {
   "cell_type": "code",
   "execution_count": 56,
   "metadata": {},
   "outputs": [
    {
     "data": {
      "text/plain": [
       "(dtype('<U21'), numpy.str_)"
      ]
     },
     "execution_count": 56,
     "metadata": {},
     "output_type": "execute_result"
    }
   ],
   "source": [
    "a = np.array([2, False, 'str', 'aaaaa'])\n",
    "a.dtype, type(a[1])"
   ]
  },
  {
   "cell_type": "markdown",
   "metadata": {},
   "source": [
    "Для всех кто хочет глубже погрузиться в систему типов numpy - [вот сюда](https://docs.scipy.org/doc/numpy-1.13.0/reference/arrays.dtypes.html).\n",
    "И в само устройство массивов - [сюда](https://docs.scipy.org/doc/numpy/reference/arrays.html)"
   ]
  },
  {
   "cell_type": "markdown",
   "metadata": {},
   "source": [
    "## Зачем Numpy?"
   ]
  },
  {
   "cell_type": "markdown",
   "metadata": {},
   "source": [
    "Посмотрим с какой скоростью выполняется скалярное произведение для list и ndarrays"
   ]
  },
  {
   "cell_type": "code",
   "execution_count": 57,
   "metadata": {},
   "outputs": [],
   "source": [
    "import time\n",
    "\n",
    "A_quick = np.random.normal(size = (1000000,))\n",
    "B_quick = np.random.normal(size = (1000000,))\n",
    "\n",
    "A_slow, B_slow = list(A_quick), list(B_quick)"
   ]
  },
  {
   "cell_type": "code",
   "execution_count": 58,
   "metadata": {},
   "outputs": [
    {
     "name": "stdout",
     "output_type": "stream",
     "text": [
      "CPU times: user 271 ms, sys: 21 ms, total: 292 ms\n",
      "Wall time: 294 ms\n"
     ]
    }
   ],
   "source": [
    "%%time\n",
    "ans = sum([A_slow[i] * B_slow[i] for i in range(1000000)])"
   ]
  },
  {
   "cell_type": "code",
   "execution_count": 59,
   "metadata": {},
   "outputs": [
    {
     "name": "stdout",
     "output_type": "stream",
     "text": [
      "CPU times: user 3.18 ms, sys: 2.33 ms, total: 5.5 ms\n",
      "Wall time: 4.38 ms\n"
     ]
    }
   ],
   "source": [
    "%%time\n",
    "ans = np.sum(A_quick * B_quick)"
   ]
  },
  {
   "cell_type": "markdown",
   "metadata": {},
   "source": [
    "Встроенная функция скалярного произведения"
   ]
  },
  {
   "cell_type": "markdown",
   "metadata": {},
   "source": [
    "Почему же так происходит? \n",
    "\n",
    "* NumPy array имеет фиксированную длину, которая определяется в момент его создания (в отличие от Python lists, которые могут расти динамически). \n",
    "* Тип массива приводится к минимальному возможному для определения всех объектов. Поэтому мы четко понимаем сколько памяти у нас занимает массив и как оперативно с ним работать.\n",
    "* Большинство `математическиx` операций реализовано на С в обход питоновских циклов. \n",
    "\n",
    "Для более детального разбора:\n",
    "* [тред на stackoverflow](https://stackoverflow.com/questions/8385602/why-are-numpy-arrays-so-fast)\n",
    "* [Locality of reference](https://en.wikipedia.org/wiki/Locality_of_reference)\n",
    "* [Внутреннее устройство массива numpy](https://docs.scipy.org/doc/numpy/reference/arrays.html)\n",
    "\n",
    "\n"
   ]
  },
  {
   "cell_type": "markdown",
   "metadata": {},
   "source": [
    "![Imgur](https://i.imgur.com/z4GzOX6.png)"
   ]
  },
  {
   "cell_type": "markdown",
   "metadata": {},
   "source": [
    "## Индексация"
   ]
  },
  {
   "cell_type": "markdown",
   "metadata": {},
   "source": [
    "В NumPy работает привычная индексация Python, включая использование отрицательных индексов и срезов"
   ]
  },
  {
   "cell_type": "code",
   "execution_count": 60,
   "metadata": {},
   "outputs": [],
   "source": [
    "array = np.arange(0,5)"
   ]
  },
  {
   "cell_type": "code",
   "execution_count": 61,
   "metadata": {},
   "outputs": [
    {
     "name": "stdout",
     "output_type": "stream",
     "text": [
      "0\n",
      "4\n",
      "[1 2 3]\n",
      "[1 3]\n",
      "[4 3 2 1 0]\n"
     ]
    }
   ],
   "source": [
    "print(array[0])\n",
    "print(array[-1])\n",
    "print(array[1:-1])\n",
    "print(array[1:-1:2])\n",
    "print(array[::-1])"
   ]
  },
  {
   "cell_type": "markdown",
   "metadata": {},
   "source": [
    "**Замечание**: Индексы и срезы в многомерных массивах не нужно разделять квадратными скобками \n",
    "\n",
    "т.е. вместо ```matrix[i][j]``` нужно использовать ```matrix[i, j]```"
   ]
  },
  {
   "cell_type": "markdown",
   "metadata": {},
   "source": [
    "Чтобы взять срезы по матрице можно использовать `:`"
   ]
  },
  {
   "cell_type": "code",
   "execution_count": 62,
   "metadata": {},
   "outputs": [
    {
     "data": {
      "text/plain": [
       "(array([[ 2,  5,  8],\n",
       "        [11, 14, 17],\n",
       "        [20, 23, 26]]),\n",
       " array([ 8, 17, 26]))"
      ]
     },
     "execution_count": 62,
     "metadata": {},
     "output_type": "execute_result"
    }
   ],
   "source": [
    "a = np.arange(27).reshape(3,3,3)\n",
    "a[:,:,2], a[:,2,2]"
   ]
  },
  {
   "cell_type": "markdown",
   "metadata": {},
   "source": [
    "Или еще более странный синтаксический сахар: `...` - `все остальное`"
   ]
  },
  {
   "cell_type": "code",
   "execution_count": 63,
   "metadata": {},
   "outputs": [
    {
     "data": {
      "text/plain": [
       "(array([[ 2,  5,  8],\n",
       "        [11, 14, 17],\n",
       "        [20, 23, 26]]),\n",
       " array([ 8, 17, 26]))"
      ]
     },
     "execution_count": 63,
     "metadata": {},
     "output_type": "execute_result"
    }
   ],
   "source": [
    "a[...,2], a[..., 2, 2]"
   ]
  },
  {
   "cell_type": "markdown",
   "metadata": {},
   "source": [
    "### Индексирование масками"
   ]
  },
  {
   "cell_type": "code",
   "execution_count": 64,
   "metadata": {},
   "outputs": [],
   "source": [
    "a = np.arange(0, 10)"
   ]
  },
  {
   "cell_type": "code",
   "execution_count": 65,
   "metadata": {},
   "outputs": [
    {
     "data": {
      "text/plain": [
       "array([ True, False, False,  True, False, False,  True, False, False,\n",
       "        True])"
      ]
     },
     "execution_count": 65,
     "metadata": {},
     "output_type": "execute_result"
    }
   ],
   "source": [
    "(a % 3 == 0)"
   ]
  },
  {
   "cell_type": "code",
   "execution_count": 66,
   "metadata": {},
   "outputs": [
    {
     "data": {
      "text/plain": [
       "array([0, 3, 6, 9])"
      ]
     },
     "execution_count": 66,
     "metadata": {},
     "output_type": "execute_result"
    }
   ],
   "source": [
    "mask = (a % 3 == 0)\n",
    "extract_from_a = a[mask] \n",
    "extract_from_a          "
   ]
  },
  {
   "cell_type": "markdown",
   "metadata": {},
   "source": [
    "Индексирование маской может быть очень полезным для присваивания значений части элементов массива:\n"
   ]
  },
  {
   "cell_type": "code",
   "execution_count": 67,
   "metadata": {},
   "outputs": [
    {
     "data": {
      "text/plain": [
       "array([-1,  1,  2, -1,  4,  5, -1,  7,  8, -1])"
      ]
     },
     "execution_count": 67,
     "metadata": {},
     "output_type": "execute_result"
    }
   ],
   "source": [
    "a[a % 3 == 0] = -1\n",
    "a"
   ]
  },
  {
   "cell_type": "markdown",
   "metadata": {},
   "source": [
    "### Индексирование массивом целых чисел"
   ]
  },
  {
   "cell_type": "code",
   "execution_count": 68,
   "metadata": {},
   "outputs": [
    {
     "data": {
      "text/plain": [
       "array([10, 11, 12, 13, 14, 15, 16, 17, 18, 19, 20, 21, 22, 23, 24, 25, 26])"
      ]
     },
     "execution_count": 68,
     "metadata": {},
     "output_type": "execute_result"
    }
   ],
   "source": [
    "a = np.arange(10,  27)\n",
    "a"
   ]
  },
  {
   "cell_type": "code",
   "execution_count": 69,
   "metadata": {},
   "outputs": [
    {
     "data": {
      "text/plain": [
       "array([12, 13, 12, 14])"
      ]
     },
     "execution_count": 69,
     "metadata": {},
     "output_type": "execute_result"
    }
   ],
   "source": [
    "a[[2, 3, 2, 4]] "
   ]
  },
  {
   "cell_type": "code",
   "execution_count": 70,
   "metadata": {},
   "outputs": [
    {
     "data": {
      "text/plain": [
       "array([   10,    11, -1000,    13, -1000,    15,    16,    17,    18,\n",
       "          19,    20,    21,    22,    23,    24,    25,    26])"
      ]
     },
     "execution_count": 70,
     "metadata": {},
     "output_type": "execute_result"
    }
   ],
   "source": [
    "a[[2, 4]] = -1000\n",
    "a"
   ]
  },
  {
   "cell_type": "code",
   "execution_count": 71,
   "metadata": {},
   "outputs": [
    {
     "data": {
      "text/plain": [
       "(2, 2)"
      ]
     },
     "execution_count": 71,
     "metadata": {},
     "output_type": "execute_result"
    }
   ],
   "source": [
    "a = np.arange(10, 20)\n",
    "idx = np.array([[3, 4], \n",
    "                [9, 7]])\n",
    "idx.shape"
   ]
  },
  {
   "cell_type": "code",
   "execution_count": 72,
   "metadata": {},
   "outputs": [
    {
     "data": {
      "text/plain": [
       "array([[13, 14],\n",
       "       [19, 17]])"
      ]
     },
     "execution_count": 72,
     "metadata": {},
     "output_type": "execute_result"
    }
   ],
   "source": [
    "a[idx]"
   ]
  },
  {
   "cell_type": "code",
   "execution_count": 73,
   "metadata": {},
   "outputs": [],
   "source": [
    "b = a.reshape((2, 5))"
   ]
  },
  {
   "cell_type": "code",
   "execution_count": 74,
   "metadata": {},
   "outputs": [],
   "source": [
    "idx = np.array([(1, 1)])"
   ]
  },
  {
   "cell_type": "code",
   "execution_count": 75,
   "metadata": {},
   "outputs": [
    {
     "data": {
      "text/plain": [
       "array([[[15, 16, 17, 18, 19],\n",
       "        [15, 16, 17, 18, 19]]])"
      ]
     },
     "execution_count": 75,
     "metadata": {},
     "output_type": "execute_result"
    }
   ],
   "source": [
    "b[idx]"
   ]
  },
  {
   "cell_type": "markdown",
   "metadata": {},
   "source": [
    "### Собственные функции в Numpy"
   ]
  },
  {
   "cell_type": "markdown",
   "metadata": {},
   "source": [
    "Чтобы сделать собственную `массовую` функцию в numpy недостаточно просто сделать ее, нужно ее еще `векторизовать`. Создадим функцю проверяющую массив на палиндром."
   ]
  },
  {
   "cell_type": "code",
   "execution_count": 76,
   "metadata": {},
   "outputs": [],
   "source": [
    "pal = lambda x: str(x) == str(x)[::-1]"
   ]
  },
  {
   "cell_type": "code",
   "execution_count": 77,
   "metadata": {},
   "outputs": [
    {
     "data": {
      "text/plain": [
       "False"
      ]
     },
     "execution_count": 77,
     "metadata": {},
     "output_type": "execute_result"
    }
   ],
   "source": [
    "a = np.array([11, 21, 343, 40]) \n",
    "pal(a) #воспринимает за x весь массив, str(x) - строковое представление массива"
   ]
  },
  {
   "cell_type": "code",
   "execution_count": 78,
   "metadata": {},
   "outputs": [],
   "source": [
    "vpal = np.vectorize(pal)"
   ]
  },
  {
   "cell_type": "code",
   "execution_count": 79,
   "metadata": {},
   "outputs": [
    {
     "data": {
      "text/plain": [
       "array([ True, False,  True, False])"
      ]
     },
     "execution_count": 79,
     "metadata": {},
     "output_type": "execute_result"
    }
   ],
   "source": [
    "vpal(a)"
   ]
  },
  {
   "cell_type": "markdown",
   "metadata": {
    "colab_type": "text",
    "id": "vLQAeJhuKsOh"
   },
   "source": [
    "# Пример использования на чуть более реальной задаче."
   ]
  },
  {
   "attachments": {},
   "cell_type": "markdown",
   "metadata": {
    "colab_type": "text",
    "id": "yf_KKtkqLVdS"
   },
   "source": [
    "Есть несколько способов индексирования тензоров. Мы их рассмотрим подробнее в этом разделе.\n",
    "\n",
    "Но с маленькими тензорами работать не интересно. Для начала создадим большой тензор. Сделаем матрицу размерности (1000, 2) проинициализируем ее элементы случайными числами из простых нормальных распределений:"
   ]
  },
  {
   "cell_type": "code",
   "execution_count": 80,
   "metadata": {
    "colab": {},
    "colab_type": "code",
    "id": "vxT3jIVqKrd2"
   },
   "outputs": [],
   "source": [
    "coordinates_1 = np.random.normal(loc=[10, 10], scale = [30, 20], size = (500,2))\n",
    "coordinates_2 = np.random.normal(loc=[50, 20], scale = [10, 70], size = (500,2))\n",
    "coordinates = np.concatenate([coordinates_1, coordinates_2])"
   ]
  },
  {
   "attachments": {},
   "cell_type": "markdown",
   "metadata": {
    "colab_type": "text",
    "id": "85hwsUMTMP1-"
   },
   "source": [
    "Эта матрица будет соответствовать координатам 1000 точек в пространстве. Для наглядности их отобразим на плоскости:"
   ]
  },
  {
   "cell_type": "markdown",
   "metadata": {
    "colab_type": "text",
    "id": "XOYG4t-M1L5O"
   },
   "source": [
    "Давайте раскрасим наши распределения:"
   ]
  },
  {
   "cell_type": "code",
   "execution_count": 81,
   "metadata": {
    "colab": {
     "base_uri": "https://localhost:8080/",
     "height": 269
    },
    "colab_type": "code",
    "id": "V1iGOyzT1RVL",
    "outputId": "27fdcf35-e2c9-4b84-b6e0-a94cfbdf576d"
   },
   "outputs": [
    {
     "data": {
      "image/png": "[encoded data removed]",
      "text/plain": [
       "<Figure size 432x288 with 1 Axes>"
      ]
     },
     "metadata": {
      "needs_background": "light"
     },
     "output_type": "display_data"
    }
   ],
   "source": [
    "plt.scatter(coordinates[:,0], coordinates[:,1], s=1, color=np.where(np.arange(0, 1000) < 500, 'blue', 'green'));\n",
    "plt.grid()"
   ]
  },
  {
   "cell_type": "markdown",
   "metadata": {
    "colab_type": "text",
    "id": "_lQtRMn31aBM"
   },
   "source": [
    "Здесь мы встретились с функцией **np.where**, которая является некоторым аналогом if-then-else. В качестве первого аргумента она принимает condiniton - вектор булевых значений, в качестве двух других - вектор соответствующего размера или константу. Для тех позиций, где condiniton == True будут выбраны элементы первого вектора, в остальных случаях будут выбраны элементы второго вектора."
   ]
  },
  {
   "cell_type": "markdown",
   "metadata": {
    "colab_type": "text",
    "id": "ChHF7WqFNclL"
   },
   "source": [
    "Для индексации в каждой компоненте мы можем использовать синтаксическую структуру slice. В этом случае размерность результата падать не будет, но будет осуществляться выборка в матрице по каждой координате."
   ]
  },
  {
   "cell_type": "markdown",
   "metadata": {
    "colab_type": "text",
    "id": "E2VqUIvsHwSF"
   },
   "source": [
    "Давайте оставим только те точки, в которых X принимает значения от 25 до 75:"
   ]
  },
  {
   "cell_type": "code",
   "execution_count": 82,
   "metadata": {
    "colab": {},
    "colab_type": "code",
    "id": "umCBSQniHvb_"
   },
   "outputs": [],
   "source": [
    "X_bordered_coordinates = coordinates[(coordinates[:,0] > 25) & (coordinates[:,0] < 75)]"
   ]
  },
  {
   "cell_type": "markdown",
   "metadata": {
    "colab_type": "text",
    "id": "hLyRyW2bJHmL"
   },
   "source": [
    "Здесь мы использовали индексирование булевым вектором. Этот трюк позволяет фильтровать numpy-объекты по некоторому условию."
   ]
  },
  {
   "cell_type": "markdown",
   "metadata": {
    "colab_type": "text",
    "id": "8PzVcwoGIqYG"
   },
   "source": [
    "Давайте отрисуем получившиеся точки поверх всех точек из coordinates:"
   ]
  },
  {
   "cell_type": "code",
   "execution_count": 83,
   "metadata": {
    "colab": {
     "base_uri": "https://localhost:8080/",
     "height": 286
    },
    "colab_type": "code",
    "id": "uSZIlcT0IKmz",
    "outputId": "41f98e51-f6e5-4c85-a083-2811bfd95c53"
   },
   "outputs": [
    {
     "data": {
      "image/png": "[encoded data removed]",
      "text/plain": [
       "<Figure size 432x288 with 1 Axes>"
      ]
     },
     "metadata": {
      "needs_background": "light"
     },
     "output_type": "display_data"
    }
   ],
   "source": [
    "plt.scatter(coordinates[:, 0], coordinates[:, 1], s=1, color='red')\n",
    "plt.scatter(X_bordered_coordinates[:, 0], X_bordered_coordinates[:, 1], s=2, color='black')\n",
    "plt.grid()"
   ]
  },
  {
   "cell_type": "markdown",
   "metadata": {
    "colab_type": "text",
    "id": "klZe0eKJLyTC"
   },
   "source": [
    "Для фильтрации мы можем использовать более сложные условия."
   ]
  },
  {
   "cell_type": "code",
   "execution_count": 84,
   "metadata": {
    "colab": {
     "base_uri": "https://localhost:8080/",
     "height": 269
    },
    "colab_type": "code",
    "id": "6VRRFPPiLJ5K",
    "outputId": "fe0b9850-ecfb-4b5c-d32a-6f61b77c98b6"
   },
   "outputs": [
    {
     "data": {
      "image/png": "[encoded data removed]",
      "text/plain": [
       "<Figure size 432x288 with 1 Axes>"
      ]
     },
     "metadata": {
      "needs_background": "light"
     },
     "output_type": "display_data"
    }
   ],
   "source": [
    "plt.scatter(coordinates[:, 0], coordinates[:, 1], s=1)\n",
    "bordered_coordinates = coordinates[(coordinates[:,0] > 25) & (coordinates[:,0] < 75) &\\\n",
    "                                  (coordinates[:,1] > -50) & (coordinates[:,1] < 50)]\n",
    "plt.scatter(bordered_coordinates[:, 0], bordered_coordinates[:, 1], s=10, color='black');\n",
    "plt.grid()"
   ]
  },
  {
   "cell_type": "markdown",
   "metadata": {
    "colab_type": "text",
    "id": "sO_AOBVhluUI"
   },
   "source": [
    "И еще более сложные:"
   ]
  },
  {
   "cell_type": "code",
   "execution_count": 85,
   "metadata": {
    "colab": {
     "base_uri": "https://localhost:8080/",
     "height": 269
    },
    "colab_type": "code",
    "id": "uh_zi2V7lAMq",
    "outputId": "14803f4b-a0c6-4700-ff76-762cc721c750"
   },
   "outputs": [
    {
     "data": {
      "image/png": "[encoded data removed]",
      "text/plain": [
       "<Figure size 432x288 with 1 Axes>"
      ]
     },
     "metadata": {
      "needs_background": "light"
     },
     "output_type": "display_data"
    }
   ],
   "source": [
    "new_coordinates = np.random.uniform(-20, 20, (100000, 2))\n",
    "plt.scatter(new_coordinates[:, 0], new_coordinates[:, 1], s=1)\n",
    "xs = new_coordinates[:, 0]\n",
    "ys = new_coordinates[:, 1]\n",
    "bordered_coordinates = new_coordinates[np.sin(np.sqrt(xs*xs + ys*ys) + np.arctan2(xs,ys)*5) < 0]\n",
    "plt.scatter(bordered_coordinates[:, 0], bordered_coordinates[:, 1], s=1);"
   ]
  },
  {
   "cell_type": "markdown",
   "metadata": {
    "colab_type": "text",
    "id": "O_RSm9F_Xd7o"
   },
   "source": [
    "Как вы видите, в numpy также реализованы основные функции над векторами, аналогичные функциям над скалярами в библиотеке math"
   ]
  },
  {
   "cell_type": "markdown",
   "metadata": {},
   "source": [
    "## Дополнительные материалы"
   ]
  },
  {
   "cell_type": "markdown",
   "metadata": {},
   "source": [
    "* [Numpy documentation](https://numpy.org/devdocs/user/quickstart.html)\n",
    "* [100 numpy execises](https://github.com/rougier/numpy-100/blob/master/100_Numpy_exercises.ipynb)"
   ]
  },
  {
   "cell_type": "markdown",
   "metadata": {},
   "source": [
    "## Источники материалов:\n",
    "* [mlcourse.ai](https://github.com/Yorko/mlcourse.ai) - курс Машинного обучения с OpenDataScience\n",
    "* [AI Seminars](https://github.com/AICommunityInno/Seminars) - семинары по Машинному обучению в Иннополисе\n",
    "* [HSE-ML course](https://github.com/esokolov/ml-course-hse) - курс Машинного обучения ФКН ВШЭ"
   ]
  }
 ],
 "metadata": {
  "kernelspec": {
   "display_name": "Python 3",
   "language": "python",
   "name": "python3"
  },
  "language_info": {
   "codemirror_mode": {
    "name": "ipython",
    "version": 3
   },
   "file_extension": ".py",
   "mimetype": "text/x-python",
   "name": "python",
   "nbconvert_exporter": "python",
   "pygments_lexer": "ipython3",
   "version": "3.8.8"
  }
 },
 "nbformat": 4,
 "nbformat_minor": 4
}
