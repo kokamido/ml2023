{
 "cells": [
  {
   "cell_type": "markdown",
   "metadata": {},
   "source": [
    "# Jupyter"
   ]
  },
  {
   "cell_type": "markdown",
   "metadata": {},
   "source": [
    "**Jupyter** представляет собой веб-интерфейс для исполнения кода в тетрадях \\ ноутбуках (notebook). Документ jupyter notebook имеет расширение .ipynb и состоит из множества ячеек. В ячейках можно писать программный код, делать размеченные и неразмеченные заметки. Этим функциям соответствует три типа ячеек:\n",
    "    \n",
    "    1. code\n",
    "    2. markdown\n",
    "    3. raw"
   ]
  },
  {
   "attachments": {},
   "cell_type": "markdown",
   "metadata": {},
   "source": [
    "Существуют 4 основных IDE для работы с юпитер ноутбуками:\n",
    "* [VSCode](https://code.visualstudio.com)\n",
    "* [Jupyter Notebook](https://jupyter.org/)\n",
    "* [Jupyter Lab](https://towardsdatascience.com/jupyter-lab-evolution-of-the-jupyter-notebook-5297cacde6b)\n",
    "* [Google Colab](https://colab.research.google.com)\n",
    "\n",
    "Первые 3 - локальные среды разработки, которые нужно устанавливать на компьютер. \n",
    "\n",
    "Colab - облачная среда разработки. Код работает на гугловских серверах. \n",
    "\n",
    "У каждой есть свои плюсы и минусы. Пользоваться можно любой, интерфейс они предоставляют похожий."
   ]
  },
  {
   "cell_type": "markdown",
   "metadata": {},
   "source": [
    "Для работы с содержимым ячейки используется *режим редактирования* (*Edit mode*, включается нажатием клавиши **Enter** после выбора ячейки), а для навигации между ячейками используется *командный режим* (*Command mode*, включается нажатием клавиши **Esc**). \n",
    "\n",
    "Тип ячейки можно задать в командном режиме либо с помощью горячих клавиш (**y** to code, **m** to markdown, **r** to edit raw text), либо в меню *Cell -> Cell type*. "
   ]
  },
  {
   "cell_type": "markdown",
   "metadata": {},
   "source": [
    "Кликните 2 раза по блоку, чтобы увидеть исходные данные ячейки."
   ]
  },
  {
   "cell_type": "markdown",
   "metadata": {},
   "source": [
    "## Сode"
   ]
  },
  {
   "attachments": {},
   "cell_type": "markdown",
   "metadata": {
    "colab_type": "text",
    "id": "hptridF21BpO"
   },
   "source": [
    "Jupyter Notebook представляет интерактивный интерпретатор питона. \n",
    "\n",
    "Имеется глобальное пространство имен. Каждая ячейка с кодом может быть запущена с учетом обозначенных переменных в пространстве. \n",
    "\n",
    "Ячейки можно запускать в любой последовательности, но тогда нужно следить за тем, какая ячейка в каком порядке запускалась (цифра возле ячейки блока).\n",
    "\n",
    "Чтобы выполнить ячейку с кодом нужно нажать *Shift + Enter*. На экран выведется результат **последней** команды."
   ]
  },
  {
   "cell_type": "code",
   "execution_count": 1,
   "metadata": {
    "colab": {},
    "colab_type": "code",
    "id": "DWm1oimX21SB"
   },
   "outputs": [],
   "source": [
    "def frac(n):\n",
    "    return frac(n-1)*n if n > 1 else 1"
   ]
  },
  {
   "cell_type": "code",
   "execution_count": 2,
   "metadata": {
    "colab": {},
    "colab_type": "code",
    "id": "fy4kb0nQ3AiJ"
   },
   "outputs": [
    {
     "data": {
      "text/plain": [
       "120"
      ]
     },
     "execution_count": 2,
     "metadata": {},
     "output_type": "execute_result"
    }
   ],
   "source": [
    "frac_5 = frac(5)\n",
    "frac_5"
   ]
  },
  {
   "cell_type": "code",
   "execution_count": 3,
   "metadata": {
    "colab": {
     "base_uri": "https://localhost:8080/",
     "height": 34
    },
    "colab_type": "code",
    "id": "mSQDigPt3DGf",
    "outputId": "bbca3da5-fa7f-49d5-dca4-0cfd77aebae7"
   },
   "outputs": [
    {
     "data": {
      "text/plain": [
       "5040"
      ]
     },
     "execution_count": 3,
     "metadata": {},
     "output_type": "execute_result"
    }
   ],
   "source": [
    "# вывелось только второе значение\n",
    "frac(6)\n",
    "frac(7)"
   ]
  },
  {
   "cell_type": "code",
   "execution_count": 4,
   "metadata": {},
   "outputs": [
    {
     "name": "stdout",
     "output_type": "stream",
     "text": [
      "720\n"
     ]
    },
    {
     "data": {
      "text/plain": [
       "5040"
      ]
     },
     "execution_count": 4,
     "metadata": {},
     "output_type": "execute_result"
    }
   ],
   "source": [
    "print(frac(6))\n",
    "frac(7)"
   ]
  },
  {
   "cell_type": "markdown",
   "metadata": {},
   "source": [
    "Что-то более интересное, вставляем видео, через библиотеку, но без доступа к самому ютубу это не сработает.\n",
    "\n",
    "```python\n",
    "from IPython.display import YouTubeVideo\n",
    "YouTubeVideo('fiQTb7-rCPo', width=640, height=360)\n",
    "```"
   ]
  },
  {
   "cell_type": "markdown",
   "metadata": {},
   "source": [
    "Помимо кода, в блоке могут быть специфические для Jupyter вещи:"
   ]
  },
  {
   "cell_type": "markdown",
   "metadata": {},
   "source": [
    "### [Line magic](https://ipython.readthedocs.io/en/stable/interactive/magics.html) (`%magic` команды)"
   ]
  },
  {
   "cell_type": "code",
   "execution_count": 6,
   "metadata": {},
   "outputs": [
    {
     "name": "stdout",
     "output_type": "stream",
     "text": [
      "   5:\n",
      "from IPython.display import YouTubeVideo\n",
      "YouTubeVideo('fiQTb7-rCPo', width=640, height=360)\n",
      "   6:\n",
      "#напечатает историю выполнения кода\n",
      "%history -n 5-8\n"
     ]
    }
   ],
   "source": [
    "#напечатает историю выполнения кода\n",
    "%history -n 5-8"
   ]
  },
  {
   "cell_type": "markdown",
   "metadata": {},
   "source": [
    "### [Cell magic](https://ipython.readthedocs.io/en/stable/interactive/magics.html#cell-magics) (`%%magic` команды)"
   ]
  },
  {
   "cell_type": "code",
   "execution_count": 7,
   "metadata": {},
   "outputs": [
    {
     "name": "stdout",
     "output_type": "stream",
     "text": [
      "70.2 ms ± 2.75 ms per loop (mean ± std. dev. of 7 runs, 10 loops each)\n"
     ]
    }
   ],
   "source": [
    "%%timeit\n",
    "\n",
    "for _ in range(3000):\n",
    "    for _ in range(3000):\n",
    "        2 + 3 + 5 + 7"
   ]
  },
  {
   "cell_type": "markdown",
   "metadata": {},
   "source": [
    "### `!system` команды — вызовы к программам из командной строки (cmd, bash)"
   ]
  },
  {
   "cell_type": "code",
   "execution_count": 8,
   "metadata": {},
   "outputs": [
    {
     "name": "stdout",
     "output_type": "stream",
     "text": [
      "USER         PID %CPU %MEM    VSZ   RSS TTY      STAT START   TIME COMMAND\n",
      "root           1  0.1  0.0  24416 13556 ?        Ss   09:34   0:01 /sbin/init splash\n",
      "root           2  0.0  0.0      0     0 ?        S    09:34   0:00 [kthreadd]\n",
      "root           3  0.0  0.0      0     0 ?        S    09:34   0:00 [pool_workqueue_release]\n",
      "root           4  0.0  0.0      0     0 ?        I<   09:34   0:00 [kworker/R-rcu_g]\n",
      "root           5  0.0  0.0      0     0 ?        I<   09:34   0:00 [kworker/R-rcu_p]\n",
      "root           6  0.0  0.0      0     0 ?        I<   09:34   0:00 [kworker/R-slub_]\n",
      "root           7  0.0  0.0      0     0 ?        I<   09:34   0:00 [kworker/R-netns]\n",
      "root          10  0.0  0.0      0     0 ?        I<   09:34   0:00 [kworker/0:0H-events_highpri]\n",
      "root          11  0.0  0.0      0     0 ?        I    09:34   0:00 [kworker/u64:0-ext4-rsv-conversion]\n"
     ]
    }
   ],
   "source": [
    "!ps -aux | head"
   ]
  },
  {
   "cell_type": "code",
   "execution_count": 9,
   "metadata": {},
   "outputs": [
    {
     "name": "stdout",
     "output_type": "stream",
     "text": [
      "printing from the shell\n"
     ]
    }
   ],
   "source": [
    "!echo \"printing from the shell\""
   ]
  },
  {
   "cell_type": "code",
   "execution_count": 10,
   "metadata": {},
   "outputs": [
    {
     "name": "stdout",
     "output_type": "stream",
     "text": [
      "\n",
      "Usage:   \n",
      "  pip <command> [options]\n",
      "\n",
      "no such option: -H\n"
     ]
    }
   ],
   "source": [
    "!pip -H install numpy"
   ]
  },
  {
   "attachments": {},
   "cell_type": "markdown",
   "metadata": {},
   "source": [
    "### `?` - встроенная справка\n",
    "Выводит docstring и некоторую мета-информацию, например сигнатуру, если спрашиваем о функции."
   ]
  },
  {
   "cell_type": "code",
   "execution_count": 11,
   "metadata": {},
   "outputs": [
    {
     "name": "stdout",
     "output_type": "stream",
     "text": [
      "\u001b[0;31mSignature:\u001b[0m \u001b[0mrequests\u001b[0m\u001b[0;34m.\u001b[0m\u001b[0mget\u001b[0m\u001b[0;34m(\u001b[0m\u001b[0murl\u001b[0m\u001b[0;34m,\u001b[0m \u001b[0mparams\u001b[0m\u001b[0;34m=\u001b[0m\u001b[0;32mNone\u001b[0m\u001b[0;34m,\u001b[0m \u001b[0;34m**\u001b[0m\u001b[0mkwargs\u001b[0m\u001b[0;34m)\u001b[0m\u001b[0;34m\u001b[0m\u001b[0;34m\u001b[0m\u001b[0m\n",
      "\u001b[0;31mDocstring:\u001b[0m\n",
      "Sends a GET request.\n",
      "\n",
      ":param url: URL for the new :class:`Request` object.\n",
      ":param params: (optional) Dictionary, list of tuples or bytes to send\n",
      "    in the query string for the :class:`Request`.\n",
      ":param \\*\\*kwargs: Optional arguments that ``request`` takes.\n",
      ":return: :class:`Response <Response>` object\n",
      ":rtype: requests.Response\n",
      "\u001b[0;31mFile:\u001b[0m      ~/Desktop/work/ml2023/.venv/lib/python3.11/site-packages/requests/api.py\n",
      "\u001b[0;31mType:\u001b[0m      function"
     ]
    }
   ],
   "source": [
    "import requests\n",
    "?requests.get"
   ]
  },
  {
   "cell_type": "code",
   "execution_count": 12,
   "metadata": {},
   "outputs": [
    {
     "name": "stdout",
     "output_type": "stream",
     "text": [
      "\u001b[0;31mInit signature:\u001b[0m \u001b[0mlist\u001b[0m\u001b[0;34m(\u001b[0m\u001b[0miterable\u001b[0m\u001b[0;34m=\u001b[0m\u001b[0;34m(\u001b[0m\u001b[0;34m)\u001b[0m\u001b[0;34m,\u001b[0m \u001b[0;34m/\u001b[0m\u001b[0;34m)\u001b[0m\u001b[0;34m\u001b[0m\u001b[0;34m\u001b[0m\u001b[0m\n",
      "\u001b[0;31mDocstring:\u001b[0m     \n",
      "Built-in mutable sequence.\n",
      "\n",
      "If no argument is given, the constructor creates a new empty list.\n",
      "The argument must be an iterable if specified.\n",
      "\u001b[0;31mType:\u001b[0m           type\n",
      "\u001b[0;31mSubclasses:\u001b[0m     _HashedSeq, StackSummary, _Threads, ConvertingList, DeferredConfigList, _ymd, _Accumulator, DeprecatedList, SList, _ImmutableLineList, ..."
     ]
    }
   ],
   "source": [
    "?list"
   ]
  },
  {
   "attachments": {},
   "cell_type": "markdown",
   "metadata": {},
   "source": [
    "Также есть синтаксис `??`, который ещё и исходный код выведет"
   ]
  },
  {
   "cell_type": "code",
   "execution_count": 13,
   "metadata": {},
   "outputs": [
    {
     "name": "stdout",
     "output_type": "stream",
     "text": [
      "\u001b[0;31mSignature:\u001b[0m \u001b[0mrequests\u001b[0m\u001b[0;34m.\u001b[0m\u001b[0mget\u001b[0m\u001b[0;34m(\u001b[0m\u001b[0murl\u001b[0m\u001b[0;34m,\u001b[0m \u001b[0mparams\u001b[0m\u001b[0;34m=\u001b[0m\u001b[0;32mNone\u001b[0m\u001b[0;34m,\u001b[0m \u001b[0;34m**\u001b[0m\u001b[0mkwargs\u001b[0m\u001b[0;34m)\u001b[0m\u001b[0;34m\u001b[0m\u001b[0;34m\u001b[0m\u001b[0m\n",
      "\u001b[0;31mSource:\u001b[0m   \n",
      "\u001b[0;32mdef\u001b[0m \u001b[0mget\u001b[0m\u001b[0;34m(\u001b[0m\u001b[0murl\u001b[0m\u001b[0;34m,\u001b[0m \u001b[0mparams\u001b[0m\u001b[0;34m=\u001b[0m\u001b[0;32mNone\u001b[0m\u001b[0;34m,\u001b[0m \u001b[0;34m**\u001b[0m\u001b[0mkwargs\u001b[0m\u001b[0;34m)\u001b[0m\u001b[0;34m:\u001b[0m\u001b[0;34m\u001b[0m\n",
      "\u001b[0;34m\u001b[0m    \u001b[0;34mr\"\"\"Sends a GET request.\u001b[0m\n",
      "\u001b[0;34m\u001b[0m\n",
      "\u001b[0;34m    :param url: URL for the new :class:`Request` object.\u001b[0m\n",
      "\u001b[0;34m    :param params: (optional) Dictionary, list of tuples or bytes to send\u001b[0m\n",
      "\u001b[0;34m        in the query string for the :class:`Request`.\u001b[0m\n",
      "\u001b[0;34m    :param \\*\\*kwargs: Optional arguments that ``request`` takes.\u001b[0m\n",
      "\u001b[0;34m    :return: :class:`Response <Response>` object\u001b[0m\n",
      "\u001b[0;34m    :rtype: requests.Response\u001b[0m\n",
      "\u001b[0;34m    \"\"\"\u001b[0m\u001b[0;34m\u001b[0m\n",
      "\u001b[0;34m\u001b[0m\u001b[0;34m\u001b[0m\n",
      "\u001b[0;34m\u001b[0m    \u001b[0;32mreturn\u001b[0m \u001b[0mrequest\u001b[0m\u001b[0;34m(\u001b[0m\u001b[0;34m\"get\"\u001b[0m\u001b[0;34m,\u001b[0m \u001b[0murl\u001b[0m\u001b[0;34m,\u001b[0m \u001b[0mparams\u001b[0m\u001b[0;34m=\u001b[0m\u001b[0mparams\u001b[0m\u001b[0;34m,\u001b[0m \u001b[0;34m**\u001b[0m\u001b[0mkwargs\u001b[0m\u001b[0;34m)\u001b[0m\u001b[0;34m\u001b[0m\u001b[0;34m\u001b[0m\u001b[0m\n",
      "\u001b[0;31mFile:\u001b[0m      ~/Desktop/work/ml2023/.venv/lib/python3.11/site-packages/requests/api.py\n",
      "\u001b[0;31mType:\u001b[0m      function"
     ]
    }
   ],
   "source": [
    "??requests.get"
   ]
  },
  {
   "cell_type": "markdown",
   "metadata": {},
   "source": [
    "## Markdown"
   ]
  },
  {
   "cell_type": "markdown",
   "metadata": {},
   "source": [
    "Markdown - упрощенное сочетание html и латеха вместе. \n",
    "Он позволяет:\n",
    "\n",
    "0. Составлять упорядоченные списки\n",
    "1. #Делать \n",
    "##заголовки \n",
    "###разного уровня\n",
    "3. Выделять *текст* <s>при</s> **необходимости**\n",
    "4. Добавлять [ссылки](http://imgs.xkcd.com/comics/the_universal_label.png)\n",
    "\n",
    "\n",
    "* Составлять неупорядоченные списки"
   ]
  },
  {
   "cell_type": "markdown",
   "metadata": {},
   "source": [
    "Страшные формулы ($\\LaTeX$):\n",
    "\n",
    "$\\newcommand{\\tilsigma}{\\tilde{\\sigma}}$\n",
    "\n",
    "$$f(x,y) = A \\exp\\left(- \\left(\\frac{(x-x_o)^2}{2\\tilsigma_X^2} + \\frac{(y-y_o)^2}{2\\tilsigma_Y^2} \\right)\\right)$$"
   ]
  },
  {
   "attachments": {},
   "cell_type": "markdown",
   "metadata": {},
   "source": [
    "Можно также вставлять изображения, видео и прочее:\n",
    "\n",
    "<img src=\"https://i.pinimg.com/originals/ba/92/7f/ba927ff34cd961ce2c184d47e8ead9f6.jpg\"/>\n"
   ]
  },
  {
   "cell_type": "markdown",
   "metadata": {},
   "source": [
    "Можно вставлять сниппеты с кодом (без возможности выполнить):\n",
    "\n",
    "```python\n",
    "import pandas\n",
    "```"
   ]
  },
  {
   "attachments": {},
   "cell_type": "markdown",
   "metadata": {},
   "source": [
    "А еще можно делать клевые markdown - таблицы\n",
    "\n",
    " |       | 0 | 1  |  |n |\n",
    " |-------|---|----|--|----|\n",
    " |0      | 1 | $x_0$ | $\\ldots$ | $x_0^n$ |\n",
    " |1      | 1 | $x_1$ | $\\ldots$ | $x_1^n$ |\n",
    " |$\\vdots$ | $\\vdots$|$\\ddots$  | $\\ddots$   | $\\vdots$ |\n",
    " |$n$  | 1 |$x_n$|  | $x_n^n$ |"
   ]
  },
  {
   "cell_type": "markdown",
   "metadata": {},
   "source": [
    "## Raw"
   ]
  },
  {
   "cell_type": "raw",
   "metadata": {},
   "source": [
    "Я просто текст, ни разметка, ни latex, ни код."
   ]
  },
  {
   "cell_type": "markdown",
   "metadata": {},
   "source": [
    "## Полезные материалы\n",
    "\n",
    "* [Jupyter Markdown Manual](https://athena.brynmawr.edu/jupyter/hub/dblank/public/Jupyter%20Notebook%20Users%20Manual.ipynb) \n",
    "* [Особенности Jupyter на Хабре](https://habr.com/en/company/wunderfund/blog/316826/)\n",
    "* [IPython tutorial](https://ipython.readthedocs.io/en/stable/interactive/index.html)\n",
    "* [28 useful Jupyter Tips](https://www.dataquest.io/blog/jupyter-notebook-tips-tricks-shortcuts/)\n",
    "* [Markdown sintax](https://daringfireball.net/projects/markdown/syntax)"
   ]
  },
  {
   "cell_type": "markdown",
   "metadata": {},
   "source": [
    "## Источники материалов:\n",
    "* [mlcourse.ai](https://github.com/Yorko/mlcourse.ai) - курс Машинного обучения с OpenDataScience\n",
    "* [AI Seminars](https://github.com/AICommunityInno/Seminars) - семинары по Машинному обучению в Иннополисе\n",
    "* [HSE-ML course](https://github.com/esokolov/ml-course-hse) - курс Машинного обучения ФКН ВШЭ"
   ]
  }
 ],
 "metadata": {
  "kernelspec": {
   "display_name": ".venv",
   "language": "python",
   "name": "python3"
  },
  "language_info": {
   "codemirror_mode": {
    "name": "ipython",
    "version": 3
   },
   "file_extension": ".py",
   "mimetype": "text/x-python",
   "name": "python",
   "nbconvert_exporter": "python",
   "pygments_lexer": "ipython3",
   "version": "3.11.10"
  }
 },
 "nbformat": 4,
 "nbformat_minor": 4
}
